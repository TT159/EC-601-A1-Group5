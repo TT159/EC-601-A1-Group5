{
 "cells": [
  {
   "cell_type": "markdown",
   "id": "f5bec52d",
   "metadata": {
    "papermill": {
     "duration": 0.027877,
     "end_time": "2021-09-15T06:31:47.942307",
     "exception": false,
     "start_time": "2021-09-15T06:31:47.914430",
     "status": "completed"
    },
    "tags": []
   },
   "source": [
    "![brain_baner](http://www.mf-data-science.fr/images/projects/brain_baner.jpg)"
   ]
  },
  {
   "cell_type": "markdown",
   "id": "5b08f863",
   "metadata": {
    "papermill": {
     "duration": 0.026298,
     "end_time": "2021-09-15T06:31:47.995088",
     "exception": false,
     "start_time": "2021-09-15T06:31:47.968790",
     "status": "completed"
    },
    "tags": []
   },
   "source": [
    "**This Notebook is the extension of the tests of a CNN 3D model on all MRI types developed in a first Notebook *(with EDA)* :**\n",
    "\n",
    "<span style=\"font-size:18px\">[🧠Brain Tumor 3D Multimodal CNN - All MRI Type](https://www.kaggle.com/michaelfumery/brain-tumor-3d-multimodal-cnn-all-mri-type/)</span>\n",
    "\n",
    "<h1 style=\"color:#0b0a2d; font-size:24px; text-transform: uppercase; font-weight:bold\">Context</h1>\n",
    "\n",
    "The goal of this competition, initiated by the **Radiological Society of North America *(RSNA)*** in partnership with the **Medical Image Computing and Computer Assisted Intervention Society *(the MICCAI Society)*** is to predict the methylation of the **MGMT promoter**, which is an important gene biomarker for treatment of brain tumors.\n",
    "\n",
    "These predictions will be based on a database of **MRI *(magnetic resonance imaging)*** scans of several hundred patients.\n",
    "\n",
    "<h1 style=\"color:#0b0a2d; font-size:24px; text-transform: uppercase; font-weight:bold\">Data</h1>\n",
    "\n",
    "Each independent case has a dedicated folder identified by a five-digit number. Within each of these “case” folders, there are four sub-folders, each of them corresponding to each of the structural multi-parametric MRI (mpMRI) scans, in DICOM format. The exact mpMRI scans included are:\n",
    "\n",
    "- Fluid Attenuated Inversion Recovery (FLAIR)\n",
    "- T1-weighted pre-contrast (T1w)\n",
    "- T1-weighted post-contrast (T1Gd)\n",
    "- T2-weighted (T2)\n",
    "\n",
    "| ![brain_baner](http://www.mf-data-science.fr/images/projects/brain_tumor_types.png) | \n",
    "|:--:| \n",
    "| *Examples of the four MR sequence types included in this work* |\n",
    "\n",
    "<h1 style=\"color:#0b0a2d; font-size:24px; text-transform: uppercase; font-weight:bold\">Acknowledgement</h1>\n",
    "\n",
    "This Notebook is inspired from *Ammar Alhaj Ali* work :\n",
    "- [🧠Brain Tumor 3D [Training]](https://www.kaggle.com/ammarnassanalhajali/brain-tumor-3d-training)\n",
    "- [🧠Brain Tumor 3D [Inference]](https://www.kaggle.com/ammarnassanalhajali/brain-tumor-3d-inference)"
   ]
  },
  {
   "cell_type": "markdown",
   "id": "79c2ef23",
   "metadata": {
    "papermill": {
     "duration": 0.026094,
     "end_time": "2021-09-15T06:31:48.047924",
     "exception": false,
     "start_time": "2021-09-15T06:31:48.021830",
     "status": "completed"
    },
    "tags": []
   },
   "source": [
    "<h1 style=\"color:#0b0a2d; font-size:24px; text-transform: uppercase; font-weight:bold\">Sommaire</h1>\n",
    "\n",
    "1. [Load data](#section_1)      \n",
    "2. [Image preprocessing](#section_2)      \n",
    "3. [Load pre-trained ResNet50 model](#section_3)      \n",
    "4. [Create a matrix of vectors base on ResNet50 for each patient sequence](#section_4)     \n",
    "5. [Apply LSTM for classification with Kfold](#section_5)      \n",
    "6. [Predict on test set with best model](#section_6)"
   ]
  },
  {
   "cell_type": "markdown",
   "id": "0b47366d",
   "metadata": {
    "papermill": {
     "duration": 0.026188,
     "end_time": "2021-09-15T06:31:48.100587",
     "exception": false,
     "start_time": "2021-09-15T06:31:48.074399",
     "status": "completed"
    },
    "tags": []
   },
   "source": [
    "First, we have to load the usefull Python libraries :"
   ]
  },
  {
   "cell_type": "code",
   "execution_count": 1,
   "id": "26c6b704",
   "metadata": {
    "_cell_guid": "b1076dfc-b9ad-4769-8c92-a6c4dae69d19",
    "_uuid": "8f2839f25d086af736a60e9eeb907d3b93b6e0e5",
    "execution": {
     "iopub.execute_input": "2021-09-15T06:31:48.165892Z",
     "iopub.status.busy": "2021-09-15T06:31:48.162129Z",
     "iopub.status.idle": "2021-09-15T06:31:53.427541Z",
     "shell.execute_reply": "2021-09-15T06:31:53.426913Z",
     "shell.execute_reply.started": "2021-09-14T10:54:58.673886Z"
    },
    "papermill": {
     "duration": 5.29988,
     "end_time": "2021-09-15T06:31:53.427702",
     "exception": false,
     "start_time": "2021-09-15T06:31:48.127822",
     "status": "completed"
    },
    "tags": []
   },
   "outputs": [],
   "source": [
    "import os\n",
    "import glob\n",
    "import re\n",
    "import math\n",
    "import numpy as np\n",
    "import pandas as pd\n",
    "from tqdm.notebook import tqdm\n",
    "import cv2\n",
    "import matplotlib.pyplot as plt\n",
    "import seaborn as sns\n",
    "import pydicom as dicom\n",
    "from pydicom.pixel_data_handlers.util import apply_voi_lut\n",
    "import tensorflow as tf\n",
    "from tensorflow import keras\n",
    "from tensorflow.keras.callbacks import ModelCheckpoint, EarlyStopping, ReduceLROnPlateau"
   ]
  },
  {
   "cell_type": "markdown",
   "id": "777412f2",
   "metadata": {
    "papermill": {
     "duration": 0.026713,
     "end_time": "2021-09-15T06:31:53.481157",
     "exception": false,
     "start_time": "2021-09-15T06:31:53.454444",
     "status": "completed"
    },
    "tags": []
   },
   "source": [
    "# <span style=\"color:#0b0a2d; font-size:24px; text-transform: uppercase; font-weight:bold\" id=\"section_1\">Load data</span>\n",
    "\n",
    "We will first load the anotated training data files:"
   ]
  },
  {
   "cell_type": "code",
   "execution_count": 2,
   "id": "0ee0c1ce",
   "metadata": {
    "execution": {
     "iopub.execute_input": "2021-09-15T06:31:53.538451Z",
     "iopub.status.busy": "2021-09-15T06:31:53.537740Z",
     "iopub.status.idle": "2021-09-15T06:31:53.540515Z",
     "shell.execute_reply": "2021-09-15T06:31:53.540076Z",
     "shell.execute_reply.started": "2021-09-14T10:55:03.793588Z"
    },
    "papermill": {
     "duration": 0.032536,
     "end_time": "2021-09-15T06:31:53.540633",
     "exception": false,
     "start_time": "2021-09-15T06:31:53.508097",
     "status": "completed"
    },
    "tags": []
   },
   "outputs": [],
   "source": [
    "data_directory = './'"
   ]
  },
  {
   "cell_type": "code",
   "execution_count": 3,
   "id": "93683f33",
   "metadata": {
    "execution": {
     "iopub.execute_input": "2021-09-15T06:31:53.597584Z",
     "iopub.status.busy": "2021-09-15T06:31:53.597076Z",
     "iopub.status.idle": "2021-09-15T06:31:53.625992Z",
     "shell.execute_reply": "2021-09-15T06:31:53.626516Z",
     "shell.execute_reply.started": "2021-09-14T10:55:03.80387Z"
    },
    "papermill": {
     "duration": 0.059827,
     "end_time": "2021-09-15T06:31:53.626641",
     "exception": false,
     "start_time": "2021-09-15T06:31:53.566814",
     "status": "completed"
    },
    "tags": []
   },
   "outputs": [
    {
     "data": {
      "text/html": [
       "<div>\n",
       "<style scoped>\n",
       "    .dataframe tbody tr th:only-of-type {\n",
       "        vertical-align: middle;\n",
       "    }\n",
       "\n",
       "    .dataframe tbody tr th {\n",
       "        vertical-align: top;\n",
       "    }\n",
       "\n",
       "    .dataframe thead th {\n",
       "        text-align: right;\n",
       "    }\n",
       "</style>\n",
       "<table border=\"1\" class=\"dataframe\">\n",
       "  <thead>\n",
       "    <tr style=\"text-align: right;\">\n",
       "      <th></th>\n",
       "      <th>BraTS21ID</th>\n",
       "      <th>MGMT_value</th>\n",
       "      <th>BraTS21ID5</th>\n",
       "    </tr>\n",
       "  </thead>\n",
       "  <tbody>\n",
       "    <tr>\n",
       "      <th>0</th>\n",
       "      <td>0</td>\n",
       "      <td>1</td>\n",
       "      <td>00000</td>\n",
       "    </tr>\n",
       "    <tr>\n",
       "      <th>1</th>\n",
       "      <td>2</td>\n",
       "      <td>1</td>\n",
       "      <td>00002</td>\n",
       "    </tr>\n",
       "    <tr>\n",
       "      <th>2</th>\n",
       "      <td>3</td>\n",
       "      <td>0</td>\n",
       "      <td>00003</td>\n",
       "    </tr>\n",
       "  </tbody>\n",
       "</table>\n",
       "</div>"
      ],
      "text/plain": [
       "   BraTS21ID  MGMT_value BraTS21ID5\n",
       "0          0           1      00000\n",
       "1          2           1      00002\n",
       "2          3           0      00003"
      ]
     },
     "execution_count": 3,
     "metadata": {},
     "output_type": "execute_result"
    }
   ],
   "source": [
    "train_df = pd.read_csv(data_directory+\"train_labels.csv\")\n",
    "train_df['BraTS21ID5'] = [format(x, '05d') for x in train_df.BraTS21ID]\n",
    "train_df.head(3)"
   ]
  },
  {
   "cell_type": "markdown",
   "id": "7cf503c0",
   "metadata": {
    "papermill": {
     "duration": 0.026835,
     "end_time": "2021-09-15T06:31:53.680752",
     "exception": false,
     "start_time": "2021-09-15T06:31:53.653917",
     "status": "completed"
    },
    "tags": []
   },
   "source": [
    "and the test data :"
   ]
  },
  {
   "cell_type": "code",
   "execution_count": 4,
   "id": "b6bbc169",
   "metadata": {
    "execution": {
     "iopub.execute_input": "2021-09-15T06:31:53.738397Z",
     "iopub.status.busy": "2021-09-15T06:31:53.737831Z",
     "iopub.status.idle": "2021-09-15T06:31:53.751342Z",
     "shell.execute_reply": "2021-09-15T06:31:53.750933Z",
     "shell.execute_reply.started": "2021-09-14T10:55:03.845429Z"
    },
    "papermill": {
     "duration": 0.043831,
     "end_time": "2021-09-15T06:31:53.751445",
     "exception": false,
     "start_time": "2021-09-15T06:31:53.707614",
     "status": "completed"
    },
    "tags": []
   },
   "outputs": [
    {
     "data": {
      "text/html": [
       "<div>\n",
       "<style scoped>\n",
       "    .dataframe tbody tr th:only-of-type {\n",
       "        vertical-align: middle;\n",
       "    }\n",
       "\n",
       "    .dataframe tbody tr th {\n",
       "        vertical-align: top;\n",
       "    }\n",
       "\n",
       "    .dataframe thead th {\n",
       "        text-align: right;\n",
       "    }\n",
       "</style>\n",
       "<table border=\"1\" class=\"dataframe\">\n",
       "  <thead>\n",
       "    <tr style=\"text-align: right;\">\n",
       "      <th></th>\n",
       "      <th>BraTS21ID</th>\n",
       "      <th>MGMT_value</th>\n",
       "      <th>BraTS21ID5</th>\n",
       "    </tr>\n",
       "  </thead>\n",
       "  <tbody>\n",
       "    <tr>\n",
       "      <th>0</th>\n",
       "      <td>17</td>\n",
       "      <td>0.5</td>\n",
       "      <td>00017</td>\n",
       "    </tr>\n",
       "    <tr>\n",
       "      <th>1</th>\n",
       "      <td>20</td>\n",
       "      <td>0.5</td>\n",
       "      <td>00020</td>\n",
       "    </tr>\n",
       "    <tr>\n",
       "      <th>2</th>\n",
       "      <td>28</td>\n",
       "      <td>0.5</td>\n",
       "      <td>00028</td>\n",
       "    </tr>\n",
       "  </tbody>\n",
       "</table>\n",
       "</div>"
      ],
      "text/plain": [
       "   BraTS21ID  MGMT_value BraTS21ID5\n",
       "0         17         0.5      00017\n",
       "1         20         0.5      00020\n",
       "2         28         0.5      00028"
      ]
     },
     "execution_count": 4,
     "metadata": {},
     "output_type": "execute_result"
    }
   ],
   "source": [
    "test = pd.read_csv(\n",
    "    data_directory+'sample_submission.csv')\n",
    "\n",
    "test['BraTS21ID5'] = [format(x, '05d') for x in test.BraTS21ID]\n",
    "test.head(3)"
   ]
  },
  {
   "cell_type": "markdown",
   "id": "c76df990",
   "metadata": {
    "papermill": {
     "duration": 0.027315,
     "end_time": "2021-09-15T06:31:53.806691",
     "exception": false,
     "start_time": "2021-09-15T06:31:53.779376",
     "status": "completed"
    },
    "tags": []
   },
   "source": [
    "# <span style=\"color:#0b0a2d; font-size:24px; text-transform: uppercase; font-weight:bold\" id=\"section_2\">Image preprocessing</span>\n",
    "\n",
    "For each patient, we will carry out a pre-processing of the images by applying these different modifications:\n",
    "- Load an ordered sequence of 64 MRI scan\n",
    "- Crop images to reduce black borders\n",
    "- Resize image for pre-train model\n",
    "- Apply denoising filter\n",
    "- Convert each image in **3D array**"
   ]
  },
  {
   "cell_type": "code",
   "execution_count": 5,
   "id": "dc0b03c0",
   "metadata": {
    "execution": {
     "iopub.execute_input": "2021-09-15T06:31:53.864416Z",
     "iopub.status.busy": "2021-09-15T06:31:53.863727Z",
     "iopub.status.idle": "2021-09-15T06:31:53.866019Z",
     "shell.execute_reply": "2021-09-15T06:31:53.866430Z",
     "shell.execute_reply.started": "2021-09-14T10:55:03.867262Z"
    },
    "papermill": {
     "duration": 0.032765,
     "end_time": "2021-09-15T06:31:53.866555",
     "exception": false,
     "start_time": "2021-09-15T06:31:53.833790",
     "status": "completed"
    },
    "tags": []
   },
   "outputs": [],
   "source": [
    "IMAGE_SIZE = 240\n",
    "SCALE = .8\n",
    "NUM_IMAGES = 64\n",
    "MRI_TYPE = \"FLAIR\""
   ]
  },
  {
   "cell_type": "markdown",
   "id": "72c2aa73",
   "metadata": {
    "papermill": {
     "duration": 0.02696,
     "end_time": "2021-09-15T06:31:53.920695",
     "exception": false,
     "start_time": "2021-09-15T06:31:53.893735",
     "status": "completed"
    },
    "tags": []
   },
   "source": [
    "## <span style=\"color:#3c99dc; font-size:18px; text-transform: uppercase; font-weight:bold\" id=\"section_1_1\">Load single image</span>"
   ]
  },
  {
   "cell_type": "code",
   "execution_count": 6,
   "id": "86ca3719",
   "metadata": {
    "execution": {
     "iopub.execute_input": "2021-09-15T06:31:53.982214Z",
     "iopub.status.busy": "2021-09-15T06:31:53.981528Z",
     "iopub.status.idle": "2021-09-15T06:31:53.983816Z",
     "shell.execute_reply": "2021-09-15T06:31:53.984209Z",
     "shell.execute_reply.started": "2021-09-14T10:55:03.874871Z"
    },
    "papermill": {
     "duration": 0.036561,
     "end_time": "2021-09-15T06:31:53.984339",
     "exception": false,
     "start_time": "2021-09-15T06:31:53.947778",
     "status": "completed"
    },
    "tags": []
   },
   "outputs": [],
   "source": [
    "def load_dicom_image(\n",
    "    path,\n",
    "    img_size=IMAGE_SIZE,\n",
    "    scale=SCALE):\n",
    "    '''\n",
    "    This function allows you to load a DCIM type image \n",
    "    and apply preprocessing steps such as crop, resize \n",
    "    and denoising filter to it.\n",
    "    ****************************************************\n",
    "    PARAMETERS\n",
    "    ****************************************************\n",
    "    - path : String\n",
    "        Path to the DCIM image file to load.\n",
    "    - img_size : Integer\n",
    "        Image size desired for resizing.\n",
    "    - scale : Float\n",
    "        Desired scale for the cropped image\n",
    "    - prep : Bool\n",
    "        True for a full preprocessing with\n",
    "        denoising.\n",
    "    '''\n",
    "    # Load single image\n",
    "    img = dicom.read_file(path).pixel_array\n",
    "    # Crop image\n",
    "    center_x, center_y = img.shape[1] / 2, img.shape[0] / 2\n",
    "    width_scaled, height_scaled = img.shape[1] * scale, img.shape[0] * scale\n",
    "    left_x, right_x = center_x - width_scaled / 2, center_x + width_scaled / 2\n",
    "    top_y, bottom_y = center_y - height_scaled / 2, center_y + height_scaled / 2\n",
    "    img = img[int(top_y):int(bottom_y), int(left_x):int(right_x)]\n",
    "    # Resize image\n",
    "    img = cv2.resize(img, (img_size, img_size))\n",
    "    \n",
    "    # Convert in 3D array\n",
    "    img = np.repeat(img[..., np.newaxis], 3, -1)\n",
    "    \n",
    "    return img"
   ]
  },
  {
   "cell_type": "markdown",
   "id": "17292115",
   "metadata": {
    "papermill": {
     "duration": 0.029023,
     "end_time": "2021-09-15T06:31:54.040856",
     "exception": false,
     "start_time": "2021-09-15T06:31:54.011833",
     "status": "completed"
    },
    "tags": []
   },
   "source": [
    "We can check the result of these different preprocessing steps on a random patient:"
   ]
  },
  {
   "cell_type": "code",
   "execution_count": 7,
   "id": "254e3d42",
   "metadata": {
    "execution": {
     "iopub.execute_input": "2021-09-15T06:31:54.100445Z",
     "iopub.status.busy": "2021-09-15T06:31:54.099880Z",
     "iopub.status.idle": "2021-09-15T06:31:54.429567Z",
     "shell.execute_reply": "2021-09-15T06:31:54.429965Z",
     "shell.execute_reply.started": "2021-09-14T10:55:03.889793Z"
    },
    "papermill": {
     "duration": 0.362233,
     "end_time": "2021-09-15T06:31:54.430116",
     "exception": false,
     "start_time": "2021-09-15T06:31:54.067883",
     "status": "completed"
    },
    "tags": []
   },
   "outputs": [
    {
     "data": {
      "image/png": "[encoded data removed]",
      "text/plain": [
       "<Figure size 864x576 with 2 Axes>"
      ]
     },
     "metadata": {
      "needs_background": "light"
     },
     "output_type": "display_data"
    }
   ],
   "source": [
    "sample_img = dicom.read_file(\n",
    "    data_directory+\"train/00046/FLAIR/Image-90.dcm\").pixel_array\n",
    "preproc_img = load_dicom_image(data_directory+\"train/00046/FLAIR/Image-90.dcm\")\n",
    "\n",
    "\n",
    "fig = plt.figure(figsize=(12,8))\n",
    "ax1 = plt.subplot(1,2,1)\n",
    "ax1.imshow(sample_img, cmap=\"gray\")\n",
    "ax1.set_title(f\"Original image shape = {sample_img.shape}\")\n",
    "ax2 = plt.subplot(1,2,2)\n",
    "ax2.imshow(preproc_img[:,:,0], cmap=\"gray\")\n",
    "ax2.set_title(f\"Preproc image shape = {preproc_img.shape}\")\n",
    "plt.show()"
   ]
  },
  {
   "cell_type": "markdown",
   "id": "bae8f071",
   "metadata": {
    "papermill": {
     "duration": 0.029651,
     "end_time": "2021-09-15T06:31:54.489831",
     "exception": false,
     "start_time": "2021-09-15T06:31:54.460180",
     "status": "completed"
    },
    "tags": []
   },
   "source": [
    "## <span style=\"color:#3c99dc; font-size:18px; text-transform: uppercase; font-weight:bold\" id=\"section_1_2\">Load sequence of 64 preprocessed images</span>\n",
    "\n",
    "As we saw **in the EDA part of the previous [Notebook](https://www.kaggle.com/michaelfumery/brain-tumor-3d-multimodal-cnn-all-mri-type)**, we are going to load the image sequence starting from the central image in order to avoid completely black images. We will then take the same number of images on each side of this central image."
   ]
  },
  {
   "cell_type": "code",
   "execution_count": 8,
   "id": "fa8a2b70",
   "metadata": {
    "execution": {
     "iopub.execute_input": "2021-09-15T06:31:54.557773Z",
     "iopub.status.busy": "2021-09-15T06:31:54.557017Z",
     "iopub.status.idle": "2021-09-15T06:31:54.559805Z",
     "shell.execute_reply": "2021-09-15T06:31:54.559393Z",
     "shell.execute_reply.started": "2021-09-14T10:55:04.250188Z"
    },
    "papermill": {
     "duration": 0.040046,
     "end_time": "2021-09-15T06:31:54.559912",
     "exception": false,
     "start_time": "2021-09-15T06:31:54.519866",
     "status": "completed"
    },
    "tags": []
   },
   "outputs": [],
   "source": [
    "def load_dicom_images_3d(\n",
    "    scan_id, \n",
    "    num_imgs=NUM_IMAGES, \n",
    "    img_size=IMAGE_SIZE, \n",
    "    mri_type=MRI_TYPE, \n",
    "    split=\"train\"):\n",
    "    '''\n",
    "    This function allows loading an ordered sequence \n",
    "    of x preprocessed images starting from the central \n",
    "    image of each folder.\n",
    "    ****************************************************\n",
    "    PARAMETERS\n",
    "    ****************************************************\n",
    "    - scan_id : String\n",
    "        ID of the patient to load.\n",
    "    - num_imgs : Integer\n",
    "        Number of desired images of the \n",
    "        sequence.\n",
    "    - img_size : Integer\n",
    "        Image size desired for resizing.\n",
    "    - scale : Float\n",
    "        Desired scale for the cropped image\n",
    "    - mri_type : String\n",
    "        Type of scan to load (FLAIR, T1w, \n",
    "        T1wCE, T2).\n",
    "    - split : String\n",
    "        Type of split desired : Train or Test\n",
    "    '''\n",
    "    files = sorted(glob.glob(f\"{data_directory}{split}/{scan_id}/{mri_type}/*.dcm\"), \n",
    "               key=lambda var:[int(x) if x.isdigit() else x for x in re.findall(r'[^0-9]|[0-9]+', var)])\n",
    "\n",
    "    middle = len(files)//2\n",
    "    num_imgs2 = num_imgs//2\n",
    "    p1 = max(0, middle - num_imgs2)\n",
    "    p2 = min(len(files), middle + num_imgs2)\n",
    "    img3d = np.stack([load_dicom_image(f) for f in files[p1:p2]]) \n",
    "    if img3d.shape[0] < num_imgs:\n",
    "        n_zero = np.zeros((num_imgs - img3d.shape[0], img_size, img_size, 3))\n",
    "        img3d = np.concatenate((img3d,  n_zero), axis = 0)\n",
    "            \n",
    "    return img3d"
   ]
  },
  {
   "cell_type": "markdown",
   "id": "3950d4e8",
   "metadata": {
    "papermill": {
     "duration": 0.029623,
     "end_time": "2021-09-15T06:31:54.619108",
     "exception": false,
     "start_time": "2021-09-15T06:31:54.589485",
     "status": "completed"
    },
    "tags": []
   },
   "source": [
    "Here again we can test the loading of a sequence of preprocessed images for a patient:"
   ]
  },
  {
   "cell_type": "code",
   "execution_count": 9,
   "id": "3cb4490d",
   "metadata": {
    "execution": {
     "iopub.execute_input": "2021-09-15T06:31:54.682744Z",
     "iopub.status.busy": "2021-09-15T06:31:54.682154Z",
     "iopub.status.idle": "2021-09-15T06:31:55.541862Z",
     "shell.execute_reply": "2021-09-15T06:31:55.541212Z",
     "shell.execute_reply.started": "2021-09-14T10:55:04.260863Z"
    },
    "papermill": {
     "duration": 0.893308,
     "end_time": "2021-09-15T06:31:55.541995",
     "exception": false,
     "start_time": "2021-09-15T06:31:54.648687",
     "status": "completed"
    },
    "tags": []
   },
   "outputs": [
    {
     "name": "stdout",
     "output_type": "stream",
     "text": [
      "Shape of the sequence is: (64, 240, 240, 3)\n",
      "Dimension of the 15th image in sequence is: (240, 240, 3)\n"
     ]
    },
    {
     "data": {
      "image/png": "[encoded data removed]",
      "text/plain": [
       "<Figure size 360x360 with 1 Axes>"
      ]
     },
     "metadata": {
      "needs_background": "light"
     },
     "output_type": "display_data"
    }
   ],
   "source": [
    "sample_seq = load_dicom_images_3d(\"00046\")\n",
    "print(\"Shape of the sequence is:\", sample_seq.shape)\n",
    "print(\"Dimension of the 15th image in sequence is:\", sample_seq[15].shape)\n",
    "fig = plt.figure(figsize=(5,5))\n",
    "plt.imshow(np.squeeze(sample_seq[15][:,:,0]), cmap=\"gray\")\n",
    "plt.show()"
   ]
  },
  {
   "cell_type": "markdown",
   "id": "feccec40",
   "metadata": {
    "papermill": {
     "duration": 0.03179,
     "end_time": "2021-09-15T06:31:55.605645",
     "exception": false,
     "start_time": "2021-09-15T06:31:55.573855",
     "status": "completed"
    },
    "tags": []
   },
   "source": [
    "# <span style=\"color:#0b0a2d; font-size:24px; text-transform: uppercase; font-weight:bold\" id=\"section_3\">Load pre-trained ResNet50 model</span>\n",
    "\n",
    "To carry out the Transfer Learning on each image of the sequence, we will load a pre-trained model thanks to `Keras.applications` with the pre-trained weights on **ImageNet**.      \n",
    "As the notebook must be without Internet for the competition, the weights are loaded separately and imported from a specially created Dataset *(../input/resnet-imagenet-weights)*.\n",
    "\n",
    "Here we will chrger the **ResNet50 model**, knowing that other models have been tested such as ResNet50 and Xception."
   ]
  },
  {
   "cell_type": "code",
   "execution_count": 10,
   "id": "374e8a29",
   "metadata": {
    "execution": {
     "iopub.execute_input": "2021-09-15T06:31:55.676038Z",
     "iopub.status.busy": "2021-09-15T06:31:55.675519Z",
     "iopub.status.idle": "2021-09-15T06:32:01.044136Z",
     "shell.execute_reply": "2021-09-15T06:32:01.043659Z",
     "shell.execute_reply.started": "2021-09-14T10:55:05.088738Z"
    },
    "papermill": {
     "duration": 5.406892,
     "end_time": "2021-09-15T06:32:01.044293",
     "exception": false,
     "start_time": "2021-09-15T06:31:55.637401",
     "status": "completed"
    },
    "tags": []
   },
   "outputs": [],
   "source": [
    "base_resnet = keras.applications.ResNet50(\n",
    "    weights=None,\n",
    "    #weights=\"imagenet\",\n",
    "    pooling='avg',\n",
    "    input_shape=(IMAGE_SIZE, IMAGE_SIZE, 3),\n",
    "    include_top=False)\n",
    "\n",
    "\"\"\"base_resnet.save_weights(\n",
    "    'base_resnet_imagenet.h5')\"\"\"\n",
    "base_resnet.load_weights(\n",
    "    './checkpoint/base_resnet_imagenet.h5')"
   ]
  },
  {
   "cell_type": "markdown",
   "id": "a5ebefb6",
   "metadata": {
    "papermill": {
     "duration": 0.031001,
     "end_time": "2021-09-15T06:32:01.107813",
     "exception": false,
     "start_time": "2021-09-15T06:32:01.076812",
     "status": "completed"
    },
    "tags": []
   },
   "source": [
    "We are also going to **fix all the layers of the model** so that they are not re-trained for the detection of features. The classification layer is also not loaded (`include_top = False`)."
   ]
  },
  {
   "cell_type": "code",
   "execution_count": 11,
   "id": "2b46489c",
   "metadata": {
    "execution": {
     "iopub.execute_input": "2021-09-15T06:32:01.179385Z",
     "iopub.status.busy": "2021-09-15T06:32:01.178823Z",
     "iopub.status.idle": "2021-09-15T06:32:01.182491Z",
     "shell.execute_reply": "2021-09-15T06:32:01.182076Z",
     "shell.execute_reply.started": "2021-09-14T10:55:09.512749Z"
    },
    "papermill": {
     "duration": 0.043451,
     "end_time": "2021-09-15T06:32:01.182607",
     "exception": false,
     "start_time": "2021-09-15T06:32:01.139156",
     "status": "completed"
    },
    "tags": []
   },
   "outputs": [],
   "source": [
    "base_resnet.trainable = False"
   ]
  },
  {
   "cell_type": "markdown",
   "id": "cb95ca99",
   "metadata": {
    "papermill": {
     "duration": 0.031152,
     "end_time": "2021-09-15T06:32:01.244894",
     "exception": false,
     "start_time": "2021-09-15T06:32:01.213742",
     "status": "completed"
    },
    "tags": []
   },
   "source": [
    "# <span style=\"color:#0b0a2d; font-size:24px; text-transform: uppercase; font-weight:bold\" id=\"section_4\">Create a matrix of vectors base on ResNet50 for each patient sequence</span>\n",
    "\n",
    "For this part of Transfer Learning, we will not train the ResNet50 model but only perform the prediction for each image of the sequence of each patient.     \n",
    "We will thus obtain, for each image, a matrix of the model weights that we will integrate into a list to recreate the patient sequence.     \n",
    "Finally, we are going to create a global matrix which will group together the sequences of x ResNet50.predict matrices for all the patients.\n",
    "\n",
    "Let's look at the pseudo-code:\n",
    "```Python\n",
    "# Transfert Learning\n",
    "listMatrix = []\n",
    "for person in persons:\n",
    "    listVectors = []\n",
    "    for image in person.images:\n",
    "        img = preprocess(image)\n",
    "        vector = baseModel.predict(img)\n",
    "        listVectors.append(vector)\n",
    "\n",
    "    PatientMatrix = np.stack(listVectors)\n",
    "    listMatrix.append(PatientMatrix)\n",
    "```"
   ]
  },
  {
   "cell_type": "code",
   "execution_count": 12,
   "id": "87f198c9",
   "metadata": {
    "execution": {
     "iopub.execute_input": "2021-09-15T06:32:01.313741Z",
     "iopub.status.busy": "2021-09-15T06:32:01.312515Z",
     "iopub.status.idle": "2021-09-15T06:32:01.315438Z",
     "shell.execute_reply": "2021-09-15T06:32:01.314981Z",
     "shell.execute_reply.started": "2021-09-14T10:55:09.527278Z"
    },
    "papermill": {
     "duration": 0.03921,
     "end_time": "2021-09-15T06:32:01.315550",
     "exception": false,
     "start_time": "2021-09-15T06:32:01.276340",
     "status": "completed"
    },
    "tags": []
   },
   "outputs": [],
   "source": [
    "train = train_df[['BraTS21ID5','MGMT_value']]\n",
    "X_train = train['BraTS21ID5'].values\n",
    "y_train = train['MGMT_value'].values"
   ]
  },
  {
   "cell_type": "markdown",
   "id": "64b6e777",
   "metadata": {
    "papermill": {
     "duration": 0.031086,
     "end_time": "2021-09-15T06:32:01.377590",
     "exception": false,
     "start_time": "2021-09-15T06:32:01.346504",
     "status": "completed"
    },
    "tags": []
   },
   "source": [
    "**We will apply this process for just one type of MRI scans (here is T1w type)** for each patient. Each patient will therefore have 24 images for treatment."
   ]
  },
  {
   "cell_type": "code",
   "execution_count": 13,
   "id": "2d5926cb",
   "metadata": {
    "execution": {
     "iopub.execute_input": "2021-09-15T06:32:01.446007Z",
     "iopub.status.busy": "2021-09-15T06:32:01.445481Z",
     "iopub.status.idle": "2021-09-15T07:01:21.864644Z",
     "shell.execute_reply": "2021-09-15T07:01:21.864182Z",
     "shell.execute_reply.started": "2021-09-14T10:55:09.538364Z"
    },
    "papermill": {
     "duration": 1760.455988,
     "end_time": "2021-09-15T07:01:21.864779",
     "exception": false,
     "start_time": "2021-09-15T06:32:01.408791",
     "status": "completed"
    },
    "tags": []
   },
   "outputs": [
    {
     "data": {
      "application/vnd.jupyter.widget-view+json": {
       "model_id": "528dd1df9d9b46e489d3c83f23885a8b",
       "version_major": 2,
       "version_minor": 0
      },
      "text/plain": [
       "  0%|          | 0/509 [00:00<?, ?it/s]"
      ]
     },
     "metadata": {},
     "output_type": "display_data"
    }
   ],
   "source": [
    "listMatrix = []\n",
    "for i, patient in enumerate(tqdm(X_train)):\n",
    "    listVectors = []\n",
    "    sequence = load_dicom_images_3d(scan_id=str(patient),mri_type=MRI_TYPE)\n",
    "    for j in range(len(sequence)):\n",
    "        img = sequence[j]\n",
    "        img = np.expand_dims(img, axis=0)\n",
    "        img = tf.keras.applications.resnet50.preprocess_input(img)\n",
    "        img_vector = base_resnet.predict(img)\n",
    "        listVectors.append(np.array(img_vector))\n",
    "    \n",
    "    PatientMatrix = np.stack(listVectors)\n",
    "    listMatrix.append(PatientMatrix)"
   ]
  },
  {
   "cell_type": "markdown",
   "id": "330e9d7b",
   "metadata": {
    "papermill": {
     "duration": 0.042509,
     "end_time": "2021-09-15T07:01:21.939420",
     "exception": false,
     "start_time": "2021-09-15T07:01:21.896911",
     "status": "completed"
    },
    "tags": []
   },
   "source": [
    "Let us now look at the shapes of the matrices obtained following the application of this Learning Transfer:"
   ]
  },
  {
   "cell_type": "code",
   "execution_count": 14,
   "id": "e277ad83",
   "metadata": {
    "execution": {
     "iopub.execute_input": "2021-09-15T07:01:22.054346Z",
     "iopub.status.busy": "2021-09-15T07:01:22.053422Z",
     "iopub.status.idle": "2021-09-15T07:01:22.059132Z",
     "shell.execute_reply": "2021-09-15T07:01:22.059685Z",
     "shell.execute_reply.started": "2021-09-14T11:24:30.75922Z"
    },
    "papermill": {
     "duration": 0.065325,
     "end_time": "2021-09-15T07:01:22.059867",
     "exception": false,
     "start_time": "2021-09-15T07:01:21.994542",
     "status": "completed"
    },
    "tags": []
   },
   "outputs": [
    {
     "name": "stdout",
     "output_type": "stream",
     "text": [
      "Number of patient matrix: 509\n",
      "Patient matrix shape: (64, 1, 2048)\n"
     ]
    }
   ],
   "source": [
    "print(f\"Number of patient matrix: {len(listMatrix)}\")\n",
    "print(f\"Patient matrix shape: {listMatrix[0].shape}\")"
   ]
  },
  {
   "cell_type": "code",
   "execution_count": 15,
   "id": "f8ea8249",
   "metadata": {
    "execution": {
     "iopub.execute_input": "2021-09-15T07:01:27.371324Z",
     "iopub.status.busy": "2021-09-15T07:01:27.370431Z",
     "iopub.status.idle": "2021-09-15T07:01:27.374535Z",
     "shell.execute_reply": "2021-09-15T07:01:27.374909Z",
     "shell.execute_reply.started": "2021-09-14T11:24:30.766342Z"
    },
    "papermill": {
     "duration": 5.26125,
     "end_time": "2021-09-15T07:01:27.375060",
     "exception": false,
     "start_time": "2021-09-15T07:01:22.113810",
     "status": "completed"
    },
    "tags": []
   },
   "outputs": [
    {
     "data": {
      "text/plain": [
       "(509, 64, 1, 2048)"
      ]
     },
     "execution_count": 15,
     "metadata": {},
     "output_type": "execute_result"
    }
   ],
   "source": [
    "np.array(listMatrix, dtype=object).shape"
   ]
  },
  {
   "cell_type": "markdown",
   "id": "90e0bd2b",
   "metadata": {
    "papermill": {
     "duration": 0.03246,
     "end_time": "2021-09-15T07:01:27.440289",
     "exception": false,
     "start_time": "2021-09-15T07:01:27.407829",
     "status": "completed"
    },
    "tags": []
   },
   "source": [
    "# <span style=\"color:#0b0a2d; font-size:24px; text-transform: uppercase; font-weight:bold\" id=\"section_5\">Apply LSTM for classification</span>\n",
    "\n",
    "Recurrent neural networks (RNNs) are widely used in artificial intelligence when a temporal notion is involved in the data.\n",
    "\n",
    "LSTM is a complex and very powerful algorithm which will allow in our case to take into account the past elements of our sequence of images."
   ]
  },
  {
   "cell_type": "code",
   "execution_count": 16,
   "id": "76de9bba",
   "metadata": {
    "execution": {
     "iopub.execute_input": "2021-09-15T07:01:27.509618Z",
     "iopub.status.busy": "2021-09-15T07:01:27.508367Z",
     "iopub.status.idle": "2021-09-15T07:01:27.511097Z",
     "shell.execute_reply": "2021-09-15T07:01:27.510705Z",
     "shell.execute_reply.started": "2021-09-14T11:24:36.081449Z"
    },
    "papermill": {
     "duration": 0.038954,
     "end_time": "2021-09-15T07:01:27.511200",
     "exception": false,
     "start_time": "2021-09-15T07:01:27.472246",
     "status": "completed"
    },
    "tags": []
   },
   "outputs": [],
   "source": [
    "model_input_dim = listMatrix[0].shape[2]"
   ]
  },
  {
   "cell_type": "code",
   "execution_count": 17,
   "id": "940b0d9a",
   "metadata": {
    "execution": {
     "iopub.execute_input": "2021-09-15T07:01:27.580286Z",
     "iopub.status.busy": "2021-09-15T07:01:27.579725Z",
     "iopub.status.idle": "2021-09-15T07:01:27.582225Z",
     "shell.execute_reply": "2021-09-15T07:01:27.582608Z",
     "shell.execute_reply.started": "2021-09-14T11:24:36.088096Z"
    },
    "papermill": {
     "duration": 0.039688,
     "end_time": "2021-09-15T07:01:27.582728",
     "exception": false,
     "start_time": "2021-09-15T07:01:27.543040",
     "status": "completed"
    },
    "tags": []
   },
   "outputs": [],
   "source": [
    "def get_sequence_model():\n",
    "    '''Define the LSTM architecture'''\n",
    "    model = keras.models.Sequential()\n",
    "    model.add(keras.layers.LSTM(100, input_shape=(NUM_IMAGES, model_input_dim), return_sequences=True))\n",
    "    model.add(keras.layers.Dropout(0.2))\n",
    "    model.add(keras.layers.Dense(100, activation='relu'))\n",
    "    model.add(keras.layers.Dense(1, activation='sigmoid'))\n",
    "    return model"
   ]
  },
  {
   "cell_type": "code",
   "execution_count": 18,
   "id": "5ecf685c",
   "metadata": {
    "_kg_hide-output": true,
    "execution": {
     "iopub.execute_input": "2021-09-15T07:01:27.656003Z",
     "iopub.status.busy": "2021-09-15T07:01:27.655324Z",
     "iopub.status.idle": "2021-09-15T07:06:27.683937Z",
     "shell.execute_reply": "2021-09-15T07:06:27.684377Z",
     "shell.execute_reply.started": "2021-09-14T11:24:36.09724Z"
    },
    "papermill": {
     "duration": 300.069779,
     "end_time": "2021-09-15T07:06:27.684558",
     "exception": false,
     "start_time": "2021-09-15T07:01:27.614779",
     "status": "completed"
    },
    "tags": []
   },
   "outputs": [
    {
     "name": "stdout",
     "output_type": "stream",
     "text": [
      "------------------------------------------------------------------------\n",
      "Training for fold 1 ...\n",
      "Epoch 1/200\n",
      "WARNING:tensorflow:Model was constructed with shape (None, 64, 2048) for input Tensor(\"lstm_input:0\", shape=(None, 64, 2048), dtype=float32), but it was called on an input with incompatible shape (64, 1, 2048).\n",
      "WARNING:tensorflow:Model was constructed with shape (None, 64, 2048) for input Tensor(\"lstm_input:0\", shape=(None, 64, 2048), dtype=float32), but it was called on an input with incompatible shape (64, 1, 2048).\n",
      "401/407 [============================>.] - ETA: 0s - loss: 0.7114 - accuracy: 0.5192WARNING:tensorflow:Model was constructed with shape (None, 64, 2048) for input Tensor(\"lstm_input:0\", shape=(None, 64, 2048), dtype=float32), but it was called on an input with incompatible shape (64, 1, 2048).\n",
      "\n",
      "Epoch 00001: val_accuracy improved from -inf to 0.62730, saving model to Brain_lstm_kfold_1.h5\n",
      "407/407 [==============================] - 2s 6ms/step - loss: 0.7112 - accuracy: 0.5194 - val_loss: 0.6678 - val_accuracy: 0.6273\n",
      "Epoch 2/200\n",
      "407/407 [==============================] - ETA: 0s - loss: 0.6964 - accuracy: 0.5360\n",
      "Epoch 00002: val_accuracy did not improve from 0.62730\n",
      "407/407 [==============================] - 2s 4ms/step - loss: 0.6964 - accuracy: 0.5360 - val_loss: 0.6730 - val_accuracy: 0.6077\n",
      "Epoch 3/200\n",
      "398/407 [============================>.] - ETA: 0s - loss: 0.6942 - accuracy: 0.5449\n",
      "Epoch 00003: val_accuracy did not improve from 0.62730\n",
      "407/407 [==============================] - 2s 4ms/step - loss: 0.6948 - accuracy: 0.5409 - val_loss: 0.6750 - val_accuracy: 0.6043\n",
      "Epoch 4/200\n",
      "397/407 [============================>.] - ETA: 0s - loss: 0.6916 - accuracy: 0.5610\n",
      "Epoch 00004: val_accuracy did not improve from 0.62730\n",
      "407/407 [==============================] - 2s 4ms/step - loss: 0.6923 - accuracy: 0.5563 - val_loss: 0.6731 - val_accuracy: 0.6134\n",
      "Epoch 5/200\n",
      "399/407 [============================>.] - ETA: 0s - loss: 0.6911 - accuracy: 0.5617\n",
      "Epoch 00005: val_accuracy did not improve from 0.62730\n",
      "407/407 [==============================] - 2s 4ms/step - loss: 0.6914 - accuracy: 0.5593 - val_loss: 0.6749 - val_accuracy: 0.5672\n",
      "Epoch 6/200\n",
      "406/407 [============================>.] - ETA: 0s - loss: 0.6900 - accuracy: 0.5607\n",
      "Epoch 00006: val_accuracy did not improve from 0.62730\n",
      "407/407 [==============================] - 2s 4ms/step - loss: 0.6899 - accuracy: 0.5618 - val_loss: 0.6751 - val_accuracy: 0.5813\n",
      "Epoch 7/200\n",
      "397/407 [============================>.] - ETA: 0s - loss: 0.6895 - accuracy: 0.5674\n",
      "Epoch 00007: val_accuracy did not improve from 0.62730\n",
      "407/407 [==============================] - 2s 4ms/step - loss: 0.6903 - accuracy: 0.5629 - val_loss: 0.6771 - val_accuracy: 0.5735\n",
      "Epoch 8/200\n",
      "395/407 [============================>.] - ETA: 0s - loss: 0.6878 - accuracy: 0.5706\n",
      "Epoch 00008: val_accuracy did not improve from 0.62730\n",
      "407/407 [==============================] - 2s 4ms/step - loss: 0.6888 - accuracy: 0.5645 - val_loss: 0.6743 - val_accuracy: 0.5717\n",
      "Epoch 9/200\n",
      "398/407 [============================>.] - ETA: 0s - loss: 0.6879 - accuracy: 0.5678\n",
      "Epoch 00009: val_accuracy did not improve from 0.62730\n",
      "407/407 [==============================] - 2s 5ms/step - loss: 0.6886 - accuracy: 0.5637 - val_loss: 0.6737 - val_accuracy: 0.5764\n",
      "Epoch 10/200\n",
      "396/407 [============================>.] - ETA: 0s - loss: 0.6873 - accuracy: 0.5713\n",
      "Epoch 00010: val_accuracy did not improve from 0.62730\n",
      "407/407 [==============================] - 2s 4ms/step - loss: 0.6882 - accuracy: 0.5667 - val_loss: 0.6731 - val_accuracy: 0.5754\n",
      "Epoch 11/200\n",
      "400/407 [============================>.] - ETA: 0s - loss: 0.6891 - accuracy: 0.5655\n",
      "Epoch 00011: val_accuracy did not improve from 0.62730\n",
      "407/407 [==============================] - 2s 5ms/step - loss: 0.6892 - accuracy: 0.5648 - val_loss: 0.6771 - val_accuracy: 0.5820\n",
      "Epoch 12/200\n",
      "404/407 [============================>.] - ETA: 0s - loss: 0.6883 - accuracy: 0.5666\n",
      "Epoch 00012: val_accuracy did not improve from 0.62730\n",
      "407/407 [==============================] - 2s 5ms/step - loss: 0.6883 - accuracy: 0.5668 - val_loss: 0.6774 - val_accuracy: 0.5775\n",
      "Epoch 13/200\n",
      "394/407 [============================>.] - ETA: 0s - loss: 0.6857 - accuracy: 0.5745\n",
      "Epoch 00013: val_accuracy did not improve from 0.62730\n",
      "407/407 [==============================] - 2s 4ms/step - loss: 0.6870 - accuracy: 0.5668 - val_loss: 0.6736 - val_accuracy: 0.5884\n",
      "Epoch 14/200\n",
      "394/407 [============================>.] - ETA: 0s - loss: 0.6856 - accuracy: 0.5745\n",
      "Epoch 00014: val_accuracy did not improve from 0.62730\n",
      "407/407 [==============================] - 2s 4ms/step - loss: 0.6869 - accuracy: 0.5673 - val_loss: 0.6738 - val_accuracy: 0.5876\n",
      "Epoch 15/200\n",
      "404/407 [============================>.] - ETA: 0s - loss: 0.6859 - accuracy: 0.5698\n",
      "Epoch 00015: val_accuracy did not improve from 0.62730\n",
      "407/407 [==============================] - 2s 5ms/step - loss: 0.6860 - accuracy: 0.5694 - val_loss: 0.6709 - val_accuracy: 0.6118\n",
      "Epoch 16/200\n",
      "405/407 [============================>.] - ETA: 0s - loss: 0.6868 - accuracy: 0.5630\n",
      "Epoch 00016: val_accuracy did not improve from 0.62730\n",
      "407/407 [==============================] - 2s 5ms/step - loss: 0.6867 - accuracy: 0.5640 - val_loss: 0.6726 - val_accuracy: 0.6051\n",
      "Epoch 17/200\n",
      "404/407 [============================>.] - ETA: 0s - loss: 0.6861 - accuracy: 0.5697\n",
      "Epoch 00017: val_accuracy did not improve from 0.62730\n",
      "407/407 [==============================] - 2s 5ms/step - loss: 0.6861 - accuracy: 0.5695 - val_loss: 0.6735 - val_accuracy: 0.5962\n",
      "Epoch 18/200\n",
      "405/407 [============================>.] - ETA: 0s - loss: 0.6856 - accuracy: 0.5704\n",
      "Epoch 00018: val_accuracy did not improve from 0.62730\n",
      "407/407 [==============================] - 2s 5ms/step - loss: 0.6855 - accuracy: 0.5715 - val_loss: 0.6735 - val_accuracy: 0.6009\n",
      "Epoch 19/200\n",
      "406/407 [============================>.] - ETA: 0s - loss: 0.6853 - accuracy: 0.5726\n",
      "Epoch 00019: val_accuracy did not improve from 0.62730\n",
      "407/407 [==============================] - 2s 5ms/step - loss: 0.6852 - accuracy: 0.5733 - val_loss: 0.6727 - val_accuracy: 0.6019\n",
      "Epoch 20/200\n",
      "407/407 [==============================] - ETA: 0s - loss: 0.6836 - accuracy: 0.5730\n",
      "Epoch 00020: val_accuracy did not improve from 0.62730\n",
      "407/407 [==============================] - 2s 5ms/step - loss: 0.6836 - accuracy: 0.5730 - val_loss: 0.6722 - val_accuracy: 0.6006\n",
      "Epoch 21/200\n",
      "407/407 [==============================] - ETA: 0s - loss: 0.6848 - accuracy: 0.5747\n",
      "Epoch 00021: val_accuracy did not improve from 0.62730\n",
      "407/407 [==============================] - 2s 5ms/step - loss: 0.6848 - accuracy: 0.5747 - val_loss: 0.6741 - val_accuracy: 0.5985\n",
      "Epoch 22/200\n",
      "399/407 [============================>.] - ETA: 0s - loss: 0.6836 - accuracy: 0.5743\n",
      "Epoch 00022: val_accuracy did not improve from 0.62730\n",
      "407/407 [==============================] - 2s 5ms/step - loss: 0.6841 - accuracy: 0.5720 - val_loss: 0.6733 - val_accuracy: 0.5953\n",
      "Epoch 23/200\n",
      "397/407 [============================>.] - ETA: 0s - loss: 0.6824 - accuracy: 0.5814\n",
      "Epoch 00023: val_accuracy did not improve from 0.62730\n",
      "407/407 [==============================] - 2s 5ms/step - loss: 0.6834 - accuracy: 0.5768 - val_loss: 0.6731 - val_accuracy: 0.5959\n",
      "Epoch 24/200\n",
      "404/407 [============================>.] - ETA: 0s - loss: 0.6825 - accuracy: 0.5771\n",
      "Epoch 00024: val_accuracy did not improve from 0.62730\n",
      "407/407 [==============================] - 2s 5ms/step - loss: 0.6825 - accuracy: 0.5772 - val_loss: 0.6731 - val_accuracy: 0.5951\n",
      "Epoch 25/200\n",
      "404/407 [============================>.] - ETA: 0s - loss: 0.6812 - accuracy: 0.5786\n",
      "Epoch 00025: val_accuracy did not improve from 0.62730\n",
      "407/407 [==============================] - 2s 5ms/step - loss: 0.6812 - accuracy: 0.5785 - val_loss: 0.6733 - val_accuracy: 0.5948\n",
      "Epoch 26/200\n",
      "406/407 [============================>.] - ETA: 0s - loss: 0.6809 - accuracy: 0.5783\n",
      "Epoch 00026: val_accuracy did not improve from 0.62730\n",
      "Restoring model weights from the end of the best epoch.\n",
      "407/407 [==============================] - 2s 5ms/step - loss: 0.6808 - accuracy: 0.5789 - val_loss: 0.6737 - val_accuracy: 0.5942\n"
     ]
    },
    {
     "name": "stdout",
     "output_type": "stream",
     "text": [
      "Epoch 00026: early stopping\n",
      "------------------------------------------------------------------------\n",
      "Training for fold 2 ...\n",
      "Epoch 1/200\n",
      "WARNING:tensorflow:Model was constructed with shape (None, 64, 2048) for input Tensor(\"lstm_1_input:0\", shape=(None, 64, 2048), dtype=float32), but it was called on an input with incompatible shape (64, 1, 2048).\n",
      "WARNING:tensorflow:Model was constructed with shape (None, 64, 2048) for input Tensor(\"lstm_1_input:0\", shape=(None, 64, 2048), dtype=float32), but it was called on an input with incompatible shape (64, 1, 2048).\n",
      "402/407 [============================>.] - ETA: 0s - loss: 0.6994 - accuracy: 0.5512WARNING:tensorflow:Model was constructed with shape (None, 64, 2048) for input Tensor(\"lstm_1_input:0\", shape=(None, 64, 2048), dtype=float32), but it was called on an input with incompatible shape (64, 1, 2048).\n",
      "\n",
      "Epoch 00001: val_accuracy improved from -inf to 0.55607, saving model to Brain_lstm_kfold_2.h5\n",
      "407/407 [==============================] - 2s 6ms/step - loss: 0.6995 - accuracy: 0.5487 - val_loss: 0.6906 - val_accuracy: 0.5561\n",
      "Epoch 2/200\n",
      "401/407 [============================>.] - ETA: 0s - loss: 0.6874 - accuracy: 0.5474\n",
      "Epoch 00002: val_accuracy did not improve from 0.55607\n",
      "407/407 [==============================] - 2s 5ms/step - loss: 0.6878 - accuracy: 0.5444 - val_loss: 0.6901 - val_accuracy: 0.5547\n",
      "Epoch 3/200\n",
      "401/407 [============================>.] - ETA: 0s - loss: 0.6860 - accuracy: 0.5506\n",
      "Epoch 00003: val_accuracy did not improve from 0.55607\n",
      "407/407 [==============================] - 2s 5ms/step - loss: 0.6865 - accuracy: 0.5466 - val_loss: 0.6898 - val_accuracy: 0.5498\n",
      "Epoch 4/200\n",
      "405/407 [============================>.] - ETA: 0s - loss: 0.6848 - accuracy: 0.5477\n",
      "Epoch 00004: val_accuracy did not improve from 0.55607\n",
      "407/407 [==============================] - 2s 5ms/step - loss: 0.6849 - accuracy: 0.5471 - val_loss: 0.6915 - val_accuracy: 0.5178\n",
      "Epoch 5/200\n",
      "399/407 [============================>.] - ETA: 0s - loss: 0.6831 - accuracy: 0.5623\n",
      "Epoch 00005: val_accuracy did not improve from 0.55607\n",
      "407/407 [==============================] - 2s 5ms/step - loss: 0.6838 - accuracy: 0.5567 - val_loss: 0.6903 - val_accuracy: 0.5486\n",
      "Epoch 6/200\n",
      "402/407 [============================>.] - ETA: 0s - loss: 0.6826 - accuracy: 0.5632\n",
      "Epoch 00006: val_accuracy improved from 0.55607 to 0.55944, saving model to Brain_lstm_kfold_2.h5\n",
      "407/407 [==============================] - 2s 5ms/step - loss: 0.6829 - accuracy: 0.5606 - val_loss: 0.6893 - val_accuracy: 0.5594\n",
      "Epoch 7/200\n",
      "404/407 [============================>.] - ETA: 0s - loss: 0.6821 - accuracy: 0.5669\n",
      "Epoch 00007: val_accuracy did not improve from 0.55944\n",
      "407/407 [==============================] - 2s 5ms/step - loss: 0.6821 - accuracy: 0.5666 - val_loss: 0.6895 - val_accuracy: 0.5587\n",
      "Epoch 8/200\n",
      "404/407 [============================>.] - ETA: 0s - loss: 0.6814 - accuracy: 0.5678\n",
      "Epoch 00008: val_accuracy improved from 0.55944 to 0.55959, saving model to Brain_lstm_kfold_2.h5\n",
      "407/407 [==============================] - 2s 5ms/step - loss: 0.6814 - accuracy: 0.5677 - val_loss: 0.6895 - val_accuracy: 0.5596\n",
      "Epoch 9/200\n",
      "402/407 [============================>.] - ETA: 0s - loss: 0.6814 - accuracy: 0.5736\n",
      "Epoch 00009: val_accuracy improved from 0.55959 to 0.56143, saving model to Brain_lstm_kfold_2.h5\n",
      "407/407 [==============================] - 2s 5ms/step - loss: 0.6817 - accuracy: 0.5706 - val_loss: 0.6896 - val_accuracy: 0.5614\n",
      "Epoch 10/200\n",
      "402/407 [============================>.] - ETA: 0s - loss: 0.6805 - accuracy: 0.5737\n",
      "Epoch 00010: val_accuracy did not improve from 0.56143\n",
      "407/407 [==============================] - 2s 5ms/step - loss: 0.6809 - accuracy: 0.5708 - val_loss: 0.6904 - val_accuracy: 0.5548\n",
      "Epoch 11/200\n",
      "406/407 [============================>.] - ETA: 0s - loss: 0.6800 - accuracy: 0.5713\n",
      "Epoch 00011: val_accuracy did not improve from 0.56143\n",
      "407/407 [==============================] - 2s 5ms/step - loss: 0.6800 - accuracy: 0.5720 - val_loss: 0.6890 - val_accuracy: 0.5613\n",
      "Epoch 12/200\n",
      "404/407 [============================>.] - ETA: 0s - loss: 0.6798 - accuracy: 0.5744\n",
      "Epoch 00012: val_accuracy did not improve from 0.56143\n",
      "407/407 [==============================] - 2s 5ms/step - loss: 0.6799 - accuracy: 0.5743 - val_loss: 0.6883 - val_accuracy: 0.5593\n",
      "Epoch 13/200\n",
      "405/407 [============================>.] - ETA: 0s - loss: 0.6786 - accuracy: 0.5859\n",
      "Epoch 00013: val_accuracy did not improve from 0.56143\n",
      "407/407 [==============================] - 2s 5ms/step - loss: 0.6788 - accuracy: 0.5853 - val_loss: 0.6875 - val_accuracy: 0.5585\n",
      "Epoch 14/200\n",
      "403/407 [============================>.] - ETA: 0s - loss: 0.6780 - accuracy: 0.5886\n",
      "Epoch 00014: val_accuracy did not improve from 0.56143\n",
      "407/407 [==============================] - 2s 5ms/step - loss: 0.6784 - accuracy: 0.5866 - val_loss: 0.6873 - val_accuracy: 0.5607\n",
      "Epoch 15/200\n",
      "401/407 [============================>.] - ETA: 0s - loss: 0.6769 - accuracy: 0.5892\n",
      "Epoch 00015: val_accuracy did not improve from 0.56143\n",
      "407/407 [==============================] - 2s 5ms/step - loss: 0.6778 - accuracy: 0.5840 - val_loss: 0.6870 - val_accuracy: 0.5610\n",
      "Epoch 16/200\n",
      "402/407 [============================>.] - ETA: 0s - loss: 0.6771 - accuracy: 0.5882\n",
      "Epoch 00016: val_accuracy did not improve from 0.56143\n",
      "407/407 [==============================] - 2s 5ms/step - loss: 0.6777 - accuracy: 0.5851 - val_loss: 0.6868 - val_accuracy: 0.5571\n",
      "Epoch 17/200\n",
      "395/407 [============================>.] - ETA: 0s - loss: 0.6747 - accuracy: 0.5995\n",
      "Epoch 00017: val_accuracy did not improve from 0.56143\n",
      "407/407 [==============================] - 2s 5ms/step - loss: 0.6764 - accuracy: 0.5910 - val_loss: 0.6866 - val_accuracy: 0.5551\n",
      "Epoch 18/200\n",
      "405/407 [============================>.] - ETA: 0s - loss: 0.6750 - accuracy: 0.5870\n",
      "Epoch 00018: val_accuracy did not improve from 0.56143\n",
      "407/407 [==============================] - 2s 4ms/step - loss: 0.6752 - accuracy: 0.5864 - val_loss: 0.6881 - val_accuracy: 0.5559\n",
      "Epoch 19/200\n",
      "394/407 [============================>.] - ETA: 0s - loss: 0.6731 - accuracy: 0.5975\n",
      "Epoch 00019: val_accuracy did not improve from 0.56143\n",
      "407/407 [==============================] - 2s 5ms/step - loss: 0.6746 - accuracy: 0.5906 - val_loss: 0.6879 - val_accuracy: 0.5418\n",
      "Epoch 20/200\n",
      "396/407 [============================>.] - ETA: 0s - loss: 0.6746 - accuracy: 0.5927\n",
      "Epoch 00020: val_accuracy did not improve from 0.56143\n",
      "407/407 [==============================] - 2s 5ms/step - loss: 0.6759 - accuracy: 0.5864 - val_loss: 0.6874 - val_accuracy: 0.5544\n",
      "Epoch 21/200\n",
      "405/407 [============================>.] - ETA: 0s - loss: 0.6741 - accuracy: 0.5888\n",
      "Epoch 00021: val_accuracy did not improve from 0.56143\n",
      "407/407 [==============================] - 2s 5ms/step - loss: 0.6743 - accuracy: 0.5884 - val_loss: 0.6865 - val_accuracy: 0.5558\n",
      "Epoch 22/200\n",
      "397/407 [============================>.] - ETA: 0s - loss: 0.6723 - accuracy: 0.5976\n",
      "Epoch 00022: val_accuracy did not improve from 0.56143\n",
      "407/407 [==============================] - 2s 5ms/step - loss: 0.6737 - accuracy: 0.5909 - val_loss: 0.6883 - val_accuracy: 0.5443\n",
      "Epoch 23/200\n",
      "405/407 [============================>.] - ETA: 0s - loss: 0.6740 - accuracy: 0.5877\n",
      "Epoch 00023: val_accuracy did not improve from 0.56143\n",
      "407/407 [==============================] - 2s 5ms/step - loss: 0.6742 - accuracy: 0.5875 - val_loss: 0.6889 - val_accuracy: 0.5473\n",
      "Epoch 24/200\n",
      "404/407 [============================>.] - ETA: 0s - loss: 0.6729 - accuracy: 0.5928\n",
      "Epoch 00024: val_accuracy did not improve from 0.56143\n",
      "407/407 [==============================] - 2s 5ms/step - loss: 0.6730 - accuracy: 0.5930 - val_loss: 0.6882 - val_accuracy: 0.5438\n",
      "Epoch 25/200\n",
      "407/407 [==============================] - ETA: 0s - loss: 0.6715 - accuracy: 0.5964\n",
      "Epoch 00025: val_accuracy did not improve from 0.56143\n",
      "407/407 [==============================] - 2s 5ms/step - loss: 0.6715 - accuracy: 0.5964 - val_loss: 0.6895 - val_accuracy: 0.5389\n",
      "Epoch 26/200\n",
      "400/407 [============================>.] - ETA: 0s - loss: 0.6705 - accuracy: 0.5999\n",
      "Epoch 00026: val_accuracy did not improve from 0.56143\n",
      "407/407 [==============================] - 2s 5ms/step - loss: 0.6716 - accuracy: 0.5958 - val_loss: 0.6904 - val_accuracy: 0.5389\n"
     ]
    },
    {
     "name": "stdout",
     "output_type": "stream",
     "text": [
      "Epoch 27/200\n",
      "404/407 [============================>.] - ETA: 0s - loss: 0.6712 - accuracy: 0.5967\n",
      "Epoch 00027: val_accuracy did not improve from 0.56143\n",
      "407/407 [==============================] - 2s 5ms/step - loss: 0.6712 - accuracy: 0.5969 - val_loss: 0.6929 - val_accuracy: 0.5285\n",
      "Epoch 28/200\n",
      "399/407 [============================>.] - ETA: 0s - loss: 0.6700 - accuracy: 0.6015\n",
      "Epoch 00028: val_accuracy did not improve from 0.56143\n",
      "407/407 [==============================] - 2s 5ms/step - loss: 0.6711 - accuracy: 0.5975 - val_loss: 0.6917 - val_accuracy: 0.5323\n",
      "Epoch 29/200\n",
      "405/407 [============================>.] - ETA: 0s - loss: 0.6703 - accuracy: 0.5984\n",
      "Epoch 00029: val_accuracy did not improve from 0.56143\n",
      "407/407 [==============================] - 2s 5ms/step - loss: 0.6705 - accuracy: 0.5981 - val_loss: 0.6917 - val_accuracy: 0.5340\n",
      "Epoch 30/200\n",
      "394/407 [============================>.] - ETA: 0s - loss: 0.6676 - accuracy: 0.6030\n",
      "Epoch 00030: val_accuracy did not improve from 0.56143\n",
      "407/407 [==============================] - 2s 5ms/step - loss: 0.6689 - accuracy: 0.5978 - val_loss: 0.6931 - val_accuracy: 0.5306\n",
      "Epoch 31/200\n",
      "402/407 [============================>.] - ETA: 0s - loss: 0.6674 - accuracy: 0.6025\n",
      "Epoch 00031: val_accuracy did not improve from 0.56143\n",
      "407/407 [==============================] - 2s 4ms/step - loss: 0.6677 - accuracy: 0.6010 - val_loss: 0.6978 - val_accuracy: 0.5221\n",
      "Epoch 32/200\n",
      "395/407 [============================>.] - ETA: 0s - loss: 0.6661 - accuracy: 0.6063\n",
      "Epoch 00032: val_accuracy did not improve from 0.56143\n",
      "407/407 [==============================] - 2s 5ms/step - loss: 0.6675 - accuracy: 0.6009 - val_loss: 0.6929 - val_accuracy: 0.5369\n",
      "Epoch 33/200\n",
      "406/407 [============================>.] - ETA: 0s - loss: 0.6650 - accuracy: 0.6037\n",
      "Epoch 00033: val_accuracy did not improve from 0.56143\n",
      "407/407 [==============================] - 2s 5ms/step - loss: 0.6649 - accuracy: 0.6043 - val_loss: 0.6937 - val_accuracy: 0.5388\n",
      "Epoch 34/200\n",
      "401/407 [============================>.] - ETA: 0s - loss: 0.6613 - accuracy: 0.6111\n",
      "Epoch 00034: val_accuracy did not improve from 0.56143\n",
      "Restoring model weights from the end of the best epoch.\n",
      "407/407 [==============================] - 2s 5ms/step - loss: 0.6623 - accuracy: 0.6080 - val_loss: 0.6931 - val_accuracy: 0.5345\n",
      "Epoch 00034: early stopping\n",
      "------------------------------------------------------------------------\n",
      "Training for fold 3 ...\n",
      "Epoch 1/200\n",
      "WARNING:tensorflow:Model was constructed with shape (None, 64, 2048) for input Tensor(\"lstm_2_input:0\", shape=(None, 64, 2048), dtype=float32), but it was called on an input with incompatible shape (64, 1, 2048).\n",
      "WARNING:tensorflow:Model was constructed with shape (None, 64, 2048) for input Tensor(\"lstm_2_input:0\", shape=(None, 64, 2048), dtype=float32), but it was called on an input with incompatible shape (64, 1, 2048).\n",
      "405/407 [============================>.] - ETA: 0s - loss: 0.6954 - accuracy: 0.5299WARNING:tensorflow:Model was constructed with shape (None, 64, 2048) for input Tensor(\"lstm_2_input:0\", shape=(None, 64, 2048), dtype=float32), but it was called on an input with incompatible shape (64, 1, 2048).\n",
      "\n",
      "Epoch 00001: val_accuracy improved from -inf to 0.56020, saving model to Brain_lstm_kfold_3.h5\n",
      "407/407 [==============================] - 3s 7ms/step - loss: 0.6953 - accuracy: 0.5304 - val_loss: 0.6911 - val_accuracy: 0.5602\n",
      "Epoch 2/200\n",
      "401/407 [============================>.] - ETA: 0s - loss: 0.6876 - accuracy: 0.5397\n",
      "Epoch 00002: val_accuracy did not improve from 0.56020\n",
      "407/407 [==============================] - 2s 5ms/step - loss: 0.6876 - accuracy: 0.5405 - val_loss: 0.6897 - val_accuracy: 0.5568\n",
      "Epoch 3/200\n",
      "406/407 [============================>.] - ETA: 0s - loss: 0.6855 - accuracy: 0.5452\n",
      "Epoch 00003: val_accuracy did not improve from 0.56020\n",
      "407/407 [==============================] - 2s 5ms/step - loss: 0.6855 - accuracy: 0.5462 - val_loss: 0.6914 - val_accuracy: 0.5533\n",
      "Epoch 4/200\n",
      "403/407 [============================>.] - ETA: 0s - loss: 0.6848 - accuracy: 0.5523\n",
      "Epoch 00004: val_accuracy did not improve from 0.56020\n",
      "407/407 [==============================] - 2s 5ms/step - loss: 0.6847 - accuracy: 0.5534 - val_loss: 0.6920 - val_accuracy: 0.5522\n",
      "Epoch 5/200\n",
      "396/407 [============================>.] - ETA: 0s - loss: 0.6837 - accuracy: 0.5488\n",
      "Epoch 00005: val_accuracy did not improve from 0.56020\n",
      "407/407 [==============================] - 2s 5ms/step - loss: 0.6834 - accuracy: 0.5521 - val_loss: 0.6921 - val_accuracy: 0.5551\n",
      "Epoch 6/200\n",
      "405/407 [============================>.] - ETA: 0s - loss: 0.6827 - accuracy: 0.5564\n",
      "Epoch 00006: val_accuracy did not improve from 0.56020\n",
      "407/407 [==============================] - 2s 5ms/step - loss: 0.6827 - accuracy: 0.5578 - val_loss: 0.6925 - val_accuracy: 0.5578\n",
      "Epoch 7/200\n",
      "403/407 [============================>.] - ETA: 0s - loss: 0.6820 - accuracy: 0.5651\n",
      "Epoch 00007: val_accuracy did not improve from 0.56020\n",
      "407/407 [==============================] - 2s 5ms/step - loss: 0.6818 - accuracy: 0.5662 - val_loss: 0.6926 - val_accuracy: 0.5541\n",
      "Epoch 8/200\n",
      "398/407 [============================>.] - ETA: 0s - loss: 0.6816 - accuracy: 0.5696\n",
      "Epoch 00008: val_accuracy did not improve from 0.56020\n",
      "407/407 [==============================] - 2s 5ms/step - loss: 0.6814 - accuracy: 0.5704 - val_loss: 0.6925 - val_accuracy: 0.5567\n",
      "Epoch 9/200\n",
      "399/407 [============================>.] - ETA: 0s - loss: 0.6812 - accuracy: 0.5709\n",
      "Epoch 00009: val_accuracy did not improve from 0.56020\n",
      "407/407 [==============================] - 2s 5ms/step - loss: 0.6811 - accuracy: 0.5708 - val_loss: 0.6929 - val_accuracy: 0.5558\n",
      "Epoch 10/200\n",
      "395/407 [============================>.] - ETA: 0s - loss: 0.6816 - accuracy: 0.5656\n",
      "Epoch 00010: val_accuracy did not improve from 0.56020\n",
      "407/407 [==============================] - 2s 4ms/step - loss: 0.6813 - accuracy: 0.5676 - val_loss: 0.6929 - val_accuracy: 0.5550\n",
      "Epoch 11/200\n",
      "405/407 [============================>.] - ETA: 0s - loss: 0.6813 - accuracy: 0.5668\n",
      "Epoch 00011: val_accuracy did not improve from 0.56020\n",
      "407/407 [==============================] - 2s 5ms/step - loss: 0.6812 - accuracy: 0.5683 - val_loss: 0.6924 - val_accuracy: 0.5522\n",
      "Epoch 12/200\n",
      "401/407 [============================>.] - ETA: 0s - loss: 0.6820 - accuracy: 0.5694\n",
      "Epoch 00012: val_accuracy did not improve from 0.56020\n",
      "407/407 [==============================] - 2s 5ms/step - loss: 0.6819 - accuracy: 0.5701 - val_loss: 0.6925 - val_accuracy: 0.5512\n",
      "Epoch 13/200\n",
      "405/407 [============================>.] - ETA: 0s - loss: 0.6805 - accuracy: 0.5758\n",
      "Epoch 00013: val_accuracy did not improve from 0.56020\n",
      "407/407 [==============================] - 2s 5ms/step - loss: 0.6805 - accuracy: 0.5772 - val_loss: 0.6929 - val_accuracy: 0.5548\n",
      "Epoch 14/200\n",
      "407/407 [==============================] - ETA: 0s - loss: 0.6806 - accuracy: 0.5739\n",
      "Epoch 00014: val_accuracy did not improve from 0.56020\n",
      "407/407 [==============================] - 2s 4ms/step - loss: 0.6806 - accuracy: 0.5739 - val_loss: 0.6925 - val_accuracy: 0.5568\n",
      "Epoch 15/200\n",
      "402/407 [============================>.] - ETA: 0s - loss: 0.6802 - accuracy: 0.5765\n",
      "Epoch 00015: val_accuracy did not improve from 0.56020\n",
      "407/407 [==============================] - 2s 5ms/step - loss: 0.6799 - accuracy: 0.5786 - val_loss: 0.6926 - val_accuracy: 0.5548\n",
      "Epoch 16/200\n",
      "403/407 [============================>.] - ETA: 0s - loss: 0.6800 - accuracy: 0.5787\n",
      "Epoch 00016: val_accuracy did not improve from 0.56020\n",
      "407/407 [==============================] - 2s 5ms/step - loss: 0.6798 - accuracy: 0.5799 - val_loss: 0.6920 - val_accuracy: 0.5564\n",
      "Epoch 17/200\n",
      "398/407 [============================>.] - ETA: 0s - loss: 0.6798 - accuracy: 0.5764\n",
      "Epoch 00017: val_accuracy did not improve from 0.56020\n",
      "407/407 [==============================] - 2s 4ms/step - loss: 0.6796 - accuracy: 0.5771 - val_loss: 0.6930 - val_accuracy: 0.5530\n",
      "Epoch 18/200\n",
      "400/407 [============================>.] - ETA: 0s - loss: 0.6793 - accuracy: 0.5795\n",
      "Epoch 00018: val_accuracy did not improve from 0.56020\n",
      "407/407 [==============================] - 2s 5ms/step - loss: 0.6792 - accuracy: 0.5795 - val_loss: 0.6937 - val_accuracy: 0.5467\n"
     ]
    },
    {
     "name": "stdout",
     "output_type": "stream",
     "text": [
      "Epoch 19/200\n",
      "405/407 [============================>.] - ETA: 0s - loss: 0.6792 - accuracy: 0.5665\n",
      "Epoch 00019: val_accuracy did not improve from 0.56020\n",
      "407/407 [==============================] - 2s 5ms/step - loss: 0.6792 - accuracy: 0.5680 - val_loss: 0.6951 - val_accuracy: 0.5466\n",
      "Epoch 20/200\n",
      "401/407 [============================>.] - ETA: 0s - loss: 0.6784 - accuracy: 0.5729\n",
      "Epoch 00020: val_accuracy did not improve from 0.56020\n",
      "407/407 [==============================] - 2s 5ms/step - loss: 0.6783 - accuracy: 0.5733 - val_loss: 0.6945 - val_accuracy: 0.5493\n",
      "Epoch 21/200\n",
      "403/407 [============================>.] - ETA: 0s - loss: 0.6787 - accuracy: 0.5756\n",
      "Epoch 00021: val_accuracy did not improve from 0.56020\n",
      "407/407 [==============================] - 2s 5ms/step - loss: 0.6785 - accuracy: 0.5765 - val_loss: 0.6943 - val_accuracy: 0.5475\n",
      "Epoch 22/200\n",
      "406/407 [============================>.] - ETA: 0s - loss: 0.6785 - accuracy: 0.5747\n",
      "Epoch 00022: val_accuracy did not improve from 0.56020\n",
      "407/407 [==============================] - 2s 5ms/step - loss: 0.6784 - accuracy: 0.5756 - val_loss: 0.6950 - val_accuracy: 0.5499\n",
      "Epoch 23/200\n",
      "403/407 [============================>.] - ETA: 0s - loss: 0.6771 - accuracy: 0.5758\n",
      "Epoch 00023: val_accuracy did not improve from 0.56020\n",
      "407/407 [==============================] - 2s 5ms/step - loss: 0.6768 - accuracy: 0.5766 - val_loss: 0.6948 - val_accuracy: 0.5483\n",
      "Epoch 24/200\n",
      "406/407 [============================>.] - ETA: 0s - loss: 0.6767 - accuracy: 0.5789\n",
      "Epoch 00024: val_accuracy did not improve from 0.56020\n",
      "407/407 [==============================] - 2s 5ms/step - loss: 0.6766 - accuracy: 0.5799 - val_loss: 0.6950 - val_accuracy: 0.5487\n",
      "Epoch 25/200\n",
      "395/407 [============================>.] - ETA: 0s - loss: 0.6759 - accuracy: 0.5782\n",
      "Epoch 00025: val_accuracy did not improve from 0.56020\n",
      "407/407 [==============================] - 2s 4ms/step - loss: 0.6759 - accuracy: 0.5795 - val_loss: 0.6950 - val_accuracy: 0.5493\n",
      "Epoch 26/200\n",
      "405/407 [============================>.] - ETA: 0s - loss: 0.6761 - accuracy: 0.5790\n",
      "Epoch 00026: val_accuracy did not improve from 0.56020\n",
      "Restoring model weights from the end of the best epoch.\n",
      "407/407 [==============================] - 2s 4ms/step - loss: 0.6760 - accuracy: 0.5801 - val_loss: 0.6951 - val_accuracy: 0.5527\n",
      "Epoch 00026: early stopping\n",
      "------------------------------------------------------------------------\n",
      "Training for fold 4 ...\n",
      "Epoch 1/200\n",
      "WARNING:tensorflow:Model was constructed with shape (None, 64, 2048) for input Tensor(\"lstm_3_input:0\", shape=(None, 64, 2048), dtype=float32), but it was called on an input with incompatible shape (64, 1, 2048).\n",
      "WARNING:tensorflow:Model was constructed with shape (None, 64, 2048) for input Tensor(\"lstm_3_input:0\", shape=(None, 64, 2048), dtype=float32), but it was called on an input with incompatible shape (64, 1, 2048).\n",
      "406/407 [============================>.] - ETA: 0s - loss: 0.7044 - accuracy: 0.5291WARNING:tensorflow:Model was constructed with shape (None, 64, 2048) for input Tensor(\"lstm_3_input:0\", shape=(None, 64, 2048), dtype=float32), but it was called on an input with incompatible shape (64, 1, 2048).\n",
      "\n",
      "Epoch 00001: val_accuracy improved from -inf to 0.62086, saving model to Brain_lstm_kfold_4.h5\n",
      "407/407 [==============================] - 2s 6ms/step - loss: 0.7042 - accuracy: 0.5300 - val_loss: 0.6856 - val_accuracy: 0.6209\n",
      "Epoch 2/200\n",
      "398/407 [============================>.] - ETA: 0s - loss: 0.6897 - accuracy: 0.5311\n",
      "Epoch 00002: val_accuracy did not improve from 0.62086\n",
      "407/407 [==============================] - 2s 4ms/step - loss: 0.6899 - accuracy: 0.5285 - val_loss: 0.6853 - val_accuracy: 0.5950\n",
      "Epoch 3/200\n",
      "399/407 [============================>.] - ETA: 0s - loss: 0.6868 - accuracy: 0.5368\n",
      "Epoch 00003: val_accuracy did not improve from 0.62086\n",
      "407/407 [==============================] - 2s 4ms/step - loss: 0.6868 - accuracy: 0.5354 - val_loss: 0.6842 - val_accuracy: 0.6074\n",
      "Epoch 4/200\n",
      "398/407 [============================>.] - ETA: 0s - loss: 0.6859 - accuracy: 0.5382\n",
      "Epoch 00004: val_accuracy did not improve from 0.62086\n",
      "407/407 [==============================] - 2s 4ms/step - loss: 0.6861 - accuracy: 0.5352 - val_loss: 0.6848 - val_accuracy: 0.5591\n",
      "Epoch 5/200\n",
      "406/407 [============================>.] - ETA: 0s - loss: 0.6857 - accuracy: 0.5336\n",
      "Epoch 00005: val_accuracy did not improve from 0.62086\n",
      "407/407 [==============================] - 2s 5ms/step - loss: 0.6857 - accuracy: 0.5341 - val_loss: 0.6842 - val_accuracy: 0.5973\n",
      "Epoch 6/200\n",
      "396/407 [============================>.] - ETA: 0s - loss: 0.6850 - accuracy: 0.5412\n",
      "Epoch 00006: val_accuracy did not improve from 0.62086\n",
      "407/407 [==============================] - 2s 5ms/step - loss: 0.6851 - accuracy: 0.5380 - val_loss: 0.6850 - val_accuracy: 0.5836\n",
      "Epoch 7/200\n",
      "405/407 [============================>.] - ETA: 0s - loss: 0.6849 - accuracy: 0.5400\n",
      "Epoch 00007: val_accuracy did not improve from 0.62086\n",
      "407/407 [==============================] - 2s 5ms/step - loss: 0.6849 - accuracy: 0.5410 - val_loss: 0.6836 - val_accuracy: 0.6062\n",
      "Epoch 8/200\n",
      "400/407 [============================>.] - ETA: 0s - loss: 0.6855 - accuracy: 0.5396\n",
      "Epoch 00008: val_accuracy did not improve from 0.62086\n",
      "407/407 [==============================] - 2s 4ms/step - loss: 0.6856 - accuracy: 0.5388 - val_loss: 0.6848 - val_accuracy: 0.5268\n",
      "Epoch 9/200\n",
      "393/407 [===========================>..] - ETA: 0s - loss: 0.6845 - accuracy: 0.5470\n",
      "Epoch 00009: val_accuracy did not improve from 0.62086\n",
      "407/407 [==============================] - 2s 4ms/step - loss: 0.6846 - accuracy: 0.5442 - val_loss: 0.6836 - val_accuracy: 0.5987\n",
      "Epoch 10/200\n",
      "394/407 [============================>.] - ETA: 0s - loss: 0.6846 - accuracy: 0.5495\n",
      "Epoch 00010: val_accuracy did not improve from 0.62086\n",
      "407/407 [==============================] - 2s 5ms/step - loss: 0.6847 - accuracy: 0.5458 - val_loss: 0.6843 - val_accuracy: 0.5927\n",
      "Epoch 11/200\n",
      "394/407 [============================>.] - ETA: 0s - loss: 0.6848 - accuracy: 0.5442\n",
      "Epoch 00011: val_accuracy did not improve from 0.62086\n",
      "407/407 [==============================] - 2s 5ms/step - loss: 0.6848 - accuracy: 0.5405 - val_loss: 0.6863 - val_accuracy: 0.5267\n",
      "Epoch 12/200\n",
      "396/407 [============================>.] - ETA: 0s - loss: 0.6844 - accuracy: 0.5391\n",
      "Epoch 00012: val_accuracy did not improve from 0.62086\n",
      "407/407 [==============================] - 2s 4ms/step - loss: 0.6845 - accuracy: 0.5363 - val_loss: 0.6852 - val_accuracy: 0.5789\n",
      "Epoch 13/200\n",
      "400/407 [============================>.] - ETA: 0s - loss: 0.6843 - accuracy: 0.5409\n",
      "Epoch 00013: val_accuracy did not improve from 0.62086\n",
      "407/407 [==============================] - 2s 5ms/step - loss: 0.6843 - accuracy: 0.5402 - val_loss: 0.6857 - val_accuracy: 0.5869\n",
      "Epoch 14/200\n",
      "406/407 [============================>.] - ETA: 0s - loss: 0.6839 - accuracy: 0.5334\n",
      "Epoch 00014: val_accuracy did not improve from 0.62086\n",
      "407/407 [==============================] - 2s 4ms/step - loss: 0.6839 - accuracy: 0.5338 - val_loss: 0.6852 - val_accuracy: 0.5939\n",
      "Epoch 15/200\n",
      "402/407 [============================>.] - ETA: 0s - loss: 0.6839 - accuracy: 0.5418\n",
      "Epoch 00015: val_accuracy did not improve from 0.62086\n",
      "407/407 [==============================] - 2s 5ms/step - loss: 0.6837 - accuracy: 0.5417 - val_loss: 0.6854 - val_accuracy: 0.5790\n",
      "Epoch 16/200\n",
      "396/407 [============================>.] - ETA: 0s - loss: 0.6839 - accuracy: 0.5544\n",
      "Epoch 00016: val_accuracy did not improve from 0.62086\n",
      "407/407 [==============================] - 2s 4ms/step - loss: 0.6841 - accuracy: 0.5507 - val_loss: 0.6829 - val_accuracy: 0.6031\n",
      "Epoch 17/200\n",
      "404/407 [============================>.] - ETA: 0s - loss: 0.6848 - accuracy: 0.5422\n",
      "Epoch 00017: val_accuracy did not improve from 0.62086\n",
      "407/407 [==============================] - 2s 5ms/step - loss: 0.6849 - accuracy: 0.5416 - val_loss: 0.6853 - val_accuracy: 0.5774\n",
      "Epoch 18/200\n",
      "406/407 [============================>.] - ETA: 0s - loss: 0.6842 - accuracy: 0.5406\n",
      "Epoch 00018: val_accuracy did not improve from 0.62086\n",
      "407/407 [==============================] - 2s 4ms/step - loss: 0.6842 - accuracy: 0.5404 - val_loss: 0.6851 - val_accuracy: 0.5538\n"
     ]
    },
    {
     "name": "stdout",
     "output_type": "stream",
     "text": [
      "Epoch 19/200\n",
      "397/407 [============================>.] - ETA: 0s - loss: 0.6838 - accuracy: 0.5473\n",
      "Epoch 00019: val_accuracy did not improve from 0.62086\n",
      "407/407 [==============================] - 2s 4ms/step - loss: 0.6839 - accuracy: 0.5446 - val_loss: 0.6857 - val_accuracy: 0.5873\n",
      "Epoch 20/200\n",
      "402/407 [============================>.] - ETA: 0s - loss: 0.6836 - accuracy: 0.5505\n",
      "Epoch 00020: val_accuracy did not improve from 0.62086\n",
      "407/407 [==============================] - 2s 4ms/step - loss: 0.6835 - accuracy: 0.5504 - val_loss: 0.6845 - val_accuracy: 0.5942\n",
      "Epoch 21/200\n",
      "401/407 [============================>.] - ETA: 0s - loss: 0.6831 - accuracy: 0.5489\n",
      "Epoch 00021: val_accuracy did not improve from 0.62086\n",
      "407/407 [==============================] - 2s 4ms/step - loss: 0.6830 - accuracy: 0.5495 - val_loss: 0.6840 - val_accuracy: 0.6048\n",
      "Epoch 22/200\n",
      "401/407 [============================>.] - ETA: 0s - loss: 0.6830 - accuracy: 0.5539\n",
      "Epoch 00022: val_accuracy did not improve from 0.62086\n",
      "407/407 [==============================] - 2s 4ms/step - loss: 0.6829 - accuracy: 0.5547 - val_loss: 0.6835 - val_accuracy: 0.6060\n",
      "Epoch 23/200\n",
      "395/407 [============================>.] - ETA: 0s - loss: 0.6826 - accuracy: 0.5608\n",
      "Epoch 00023: val_accuracy did not improve from 0.62086\n",
      "407/407 [==============================] - 2s 4ms/step - loss: 0.6827 - accuracy: 0.5571 - val_loss: 0.6836 - val_accuracy: 0.6051\n",
      "Epoch 24/200\n",
      "404/407 [============================>.] - ETA: 0s - loss: 0.6822 - accuracy: 0.5594\n",
      "Epoch 00024: val_accuracy did not improve from 0.62086\n",
      "407/407 [==============================] - 2s 4ms/step - loss: 0.6823 - accuracy: 0.5594 - val_loss: 0.6845 - val_accuracy: 0.5924\n",
      "Epoch 25/200\n",
      "396/407 [============================>.] - ETA: 0s - loss: 0.6822 - accuracy: 0.5638\n",
      "Epoch 00025: val_accuracy did not improve from 0.62086\n",
      "407/407 [==============================] - 2s 5ms/step - loss: 0.6823 - accuracy: 0.5601 - val_loss: 0.6834 - val_accuracy: 0.6045\n",
      "Epoch 26/200\n",
      "401/407 [============================>.] - ETA: 0s - loss: 0.6818 - accuracy: 0.5620\n",
      "Epoch 00026: val_accuracy did not improve from 0.62086\n",
      "Restoring model weights from the end of the best epoch.\n",
      "407/407 [==============================] - 2s 4ms/step - loss: 0.6818 - accuracy: 0.5625 - val_loss: 0.6815 - val_accuracy: 0.6106\n",
      "Epoch 00026: early stopping\n",
      "------------------------------------------------------------------------\n",
      "Training for fold 5 ...\n",
      "Epoch 1/200\n",
      "WARNING:tensorflow:Model was constructed with shape (None, 64, 2048) for input Tensor(\"lstm_4_input:0\", shape=(None, 64, 2048), dtype=float32), but it was called on an input with incompatible shape (64, 1, 2048).\n",
      "WARNING:tensorflow:Model was constructed with shape (None, 64, 2048) for input Tensor(\"lstm_4_input:0\", shape=(None, 64, 2048), dtype=float32), but it was called on an input with incompatible shape (64, 1, 2048).\n",
      "407/408 [============================>.] - ETA: 0s - loss: 0.7002 - accuracy: 0.5445WARNING:tensorflow:Model was constructed with shape (None, 64, 2048) for input Tensor(\"lstm_4_input:0\", shape=(None, 64, 2048), dtype=float32), but it was called on an input with incompatible shape (64, 1, 2048).\n",
      "\n",
      "Epoch 00001: val_accuracy improved from -inf to 0.51825, saving model to Brain_lstm_kfold_5.h5\n",
      "408/408 [==============================] - 3s 6ms/step - loss: 0.7000 - accuracy: 0.5456 - val_loss: 0.7112 - val_accuracy: 0.5183\n",
      "Epoch 2/200\n",
      "402/408 [============================>.] - ETA: 0s - loss: 0.6892 - accuracy: 0.5648\n",
      "Epoch 00002: val_accuracy improved from 0.51825 to 0.52119, saving model to Brain_lstm_kfold_5.h5\n",
      "408/408 [==============================] - 2s 5ms/step - loss: 0.6898 - accuracy: 0.5620 - val_loss: 0.7077 - val_accuracy: 0.5212\n",
      "Epoch 3/200\n",
      "404/408 [============================>.] - ETA: 0s - loss: 0.6877 - accuracy: 0.5769\n",
      "Epoch 00003: val_accuracy improved from 0.52119 to 0.52382, saving model to Brain_lstm_kfold_5.h5\n",
      "408/408 [==============================] - 2s 5ms/step - loss: 0.6877 - accuracy: 0.5762 - val_loss: 0.7081 - val_accuracy: 0.5238\n",
      "Epoch 4/200\n",
      "400/408 [============================>.] - ETA: 0s - loss: 0.6857 - accuracy: 0.5778\n",
      "Epoch 00004: val_accuracy improved from 0.52382 to 0.52584, saving model to Brain_lstm_kfold_5.h5\n",
      "408/408 [==============================] - 2s 5ms/step - loss: 0.6861 - accuracy: 0.5755 - val_loss: 0.7111 - val_accuracy: 0.5258\n",
      "Epoch 5/200\n",
      "408/408 [==============================] - ETA: 0s - loss: 0.6845 - accuracy: 0.5867\n",
      "Epoch 00005: val_accuracy improved from 0.52584 to 0.52862, saving model to Brain_lstm_kfold_5.h5\n",
      "408/408 [==============================] - 2s 5ms/step - loss: 0.6845 - accuracy: 0.5867 - val_loss: 0.7089 - val_accuracy: 0.5286\n",
      "Epoch 6/200\n",
      "400/408 [============================>.] - ETA: 0s - loss: 0.6818 - accuracy: 0.5872\n",
      "Epoch 00006: val_accuracy did not improve from 0.52862\n",
      "408/408 [==============================] - 2s 4ms/step - loss: 0.6822 - accuracy: 0.5849 - val_loss: 0.7105 - val_accuracy: 0.5285\n",
      "Epoch 7/200\n",
      "404/408 [============================>.] - ETA: 0s - loss: 0.6836 - accuracy: 0.5845\n",
      "Epoch 00007: val_accuracy did not improve from 0.52862\n",
      "408/408 [==============================] - 2s 4ms/step - loss: 0.6835 - accuracy: 0.5837 - val_loss: 0.7101 - val_accuracy: 0.5263\n",
      "Epoch 8/200\n",
      "406/408 [============================>.] - ETA: 0s - loss: 0.6825 - accuracy: 0.5849\n",
      "Epoch 00008: val_accuracy did not improve from 0.52862\n",
      "408/408 [==============================] - 2s 4ms/step - loss: 0.6825 - accuracy: 0.5845 - val_loss: 0.7066 - val_accuracy: 0.5257\n",
      "Epoch 9/200\n",
      "408/408 [==============================] - ETA: 0s - loss: 0.6823 - accuracy: 0.5862\n",
      "Epoch 00009: val_accuracy did not improve from 0.52862\n",
      "408/408 [==============================] - 2s 4ms/step - loss: 0.6823 - accuracy: 0.5862 - val_loss: 0.7133 - val_accuracy: 0.5265\n",
      "Epoch 10/200\n",
      "395/408 [============================>.] - ETA: 0s - loss: 0.6834 - accuracy: 0.5847\n",
      "Epoch 00010: val_accuracy did not improve from 0.52862\n",
      "408/408 [==============================] - 2s 4ms/step - loss: 0.6826 - accuracy: 0.5852 - val_loss: 0.7078 - val_accuracy: 0.5252\n",
      "Epoch 11/200\n",
      "401/408 [============================>.] - ETA: 0s - loss: 0.6801 - accuracy: 0.5897\n",
      "Epoch 00011: val_accuracy did not improve from 0.52862\n",
      "408/408 [==============================] - 2s 4ms/step - loss: 0.6810 - accuracy: 0.5863 - val_loss: 0.7091 - val_accuracy: 0.5251\n",
      "Epoch 12/200\n",
      "403/408 [============================>.] - ETA: 0s - loss: 0.6810 - accuracy: 0.5864\n",
      "Epoch 00012: val_accuracy did not improve from 0.52862\n",
      "408/408 [==============================] - 2s 4ms/step - loss: 0.6815 - accuracy: 0.5842 - val_loss: 0.7098 - val_accuracy: 0.5227\n",
      "Epoch 13/200\n",
      "399/408 [============================>.] - ETA: 0s - loss: 0.6808 - accuracy: 0.5899\n",
      "Epoch 00013: val_accuracy did not improve from 0.52862\n",
      "408/408 [==============================] - 2s 5ms/step - loss: 0.6815 - accuracy: 0.5861 - val_loss: 0.7164 - val_accuracy: 0.5261\n",
      "Epoch 14/200\n",
      "398/408 [============================>.] - ETA: 0s - loss: 0.6795 - accuracy: 0.5907\n",
      "Epoch 00014: val_accuracy did not improve from 0.52862\n",
      "408/408 [==============================] - 2s 4ms/step - loss: 0.6800 - accuracy: 0.5877 - val_loss: 0.7247 - val_accuracy: 0.5260\n",
      "Epoch 15/200\n",
      "404/408 [============================>.] - ETA: 0s - loss: 0.6791 - accuracy: 0.5886\n",
      "Epoch 00015: val_accuracy did not improve from 0.52862\n",
      "408/408 [==============================] - 2s 5ms/step - loss: 0.6792 - accuracy: 0.5876 - val_loss: 0.7248 - val_accuracy: 0.5266\n",
      "Epoch 16/200\n",
      "397/408 [============================>.] - ETA: 0s - loss: 0.6774 - accuracy: 0.5934\n",
      "Epoch 00016: val_accuracy did not improve from 0.52862\n",
      "408/408 [==============================] - 2s 4ms/step - loss: 0.6775 - accuracy: 0.5914 - val_loss: 0.7233 - val_accuracy: 0.5266\n",
      "Epoch 17/200\n",
      "394/408 [===========================>..] - ETA: 0s - loss: 0.6758 - accuracy: 0.5943\n",
      "Epoch 00017: val_accuracy did not improve from 0.52862\n",
      "408/408 [==============================] - 2s 4ms/step - loss: 0.6753 - accuracy: 0.5930 - val_loss: 0.7267 - val_accuracy: 0.5282\n",
      "Epoch 18/200\n",
      "401/408 [============================>.] - ETA: 0s - loss: 0.6734 - accuracy: 0.5972\n",
      "Epoch 00018: val_accuracy did not improve from 0.52862\n",
      "408/408 [==============================] - 2s 4ms/step - loss: 0.6744 - accuracy: 0.5937 - val_loss: 0.7316 - val_accuracy: 0.5274\n",
      "Epoch 19/200\n",
      "401/408 [============================>.] - ETA: 0s - loss: 0.6732 - accuracy: 0.5988\n",
      "Epoch 00019: val_accuracy did not improve from 0.52862\n",
      "408/408 [==============================] - 2s 4ms/step - loss: 0.6742 - accuracy: 0.5953 - val_loss: 0.7327 - val_accuracy: 0.5254\n",
      "Epoch 20/200\n",
      "408/408 [==============================] - ETA: 0s - loss: 0.6736 - accuracy: 0.5954\n",
      "Epoch 00020: val_accuracy did not improve from 0.52862\n",
      "408/408 [==============================] - 2s 4ms/step - loss: 0.6736 - accuracy: 0.5954 - val_loss: 0.7343 - val_accuracy: 0.5277\n",
      "Epoch 21/200\n",
      "404/408 [============================>.] - ETA: 0s - loss: 0.6727 - accuracy: 0.5970\n",
      "Epoch 00021: val_accuracy did not improve from 0.52862\n",
      "408/408 [==============================] - 2s 4ms/step - loss: 0.6727 - accuracy: 0.5961 - val_loss: 0.7345 - val_accuracy: 0.5144\n",
      "Epoch 22/200\n",
      "403/408 [============================>.] - ETA: 0s - loss: 0.6702 - accuracy: 0.5965\n",
      "Epoch 00022: val_accuracy did not improve from 0.52862\n",
      "408/408 [==============================] - 2s 4ms/step - loss: 0.6710 - accuracy: 0.5943 - val_loss: 0.7323 - val_accuracy: 0.5169\n",
      "Epoch 23/200\n",
      "403/408 [============================>.] - ETA: 0s - loss: 0.6696 - accuracy: 0.5984\n",
      "Epoch 00023: val_accuracy did not improve from 0.52862\n",
      "408/408 [==============================] - 2s 4ms/step - loss: 0.6704 - accuracy: 0.5962 - val_loss: 0.7321 - val_accuracy: 0.5195\n",
      "Epoch 24/200\n",
      "404/408 [============================>.] - ETA: 0s - loss: 0.6687 - accuracy: 0.5986\n",
      "Epoch 00024: val_accuracy did not improve from 0.52862\n",
      "408/408 [==============================] - 2s 4ms/step - loss: 0.6688 - accuracy: 0.5978 - val_loss: 0.7315 - val_accuracy: 0.5176\n",
      "Epoch 25/200\n",
      "398/408 [============================>.] - ETA: 0s - loss: 0.6672 - accuracy: 0.6030\n",
      "Epoch 00025: val_accuracy did not improve from 0.52862\n",
      "408/408 [==============================] - 2s 4ms/step - loss: 0.6680 - accuracy: 0.5997 - val_loss: 0.7393 - val_accuracy: 0.5169\n",
      "Epoch 26/200\n",
      "402/408 [============================>.] - ETA: 0s - loss: 0.6649 - accuracy: 0.6033\n",
      "Epoch 00026: val_accuracy did not improve from 0.52862\n",
      "408/408 [==============================] - 2s 5ms/step - loss: 0.6660 - accuracy: 0.6001 - val_loss: 0.7323 - val_accuracy: 0.5229\n",
      "Epoch 27/200\n",
      "398/408 [============================>.] - ETA: 0s - loss: 0.6647 - accuracy: 0.6049\n",
      "Epoch 00027: val_accuracy did not improve from 0.52862\n",
      "408/408 [==============================] - 2s 4ms/step - loss: 0.6660 - accuracy: 0.6010 - val_loss: 0.7334 - val_accuracy: 0.5207\n",
      "Epoch 28/200\n",
      "401/408 [============================>.] - ETA: 0s - loss: 0.6647 - accuracy: 0.6062\n",
      "Epoch 00028: val_accuracy did not improve from 0.52862\n",
      "408/408 [==============================] - 2s 4ms/step - loss: 0.6662 - accuracy: 0.6023 - val_loss: 0.7461 - val_accuracy: 0.5118\n",
      "Epoch 29/200\n",
      "402/408 [============================>.] - ETA: 0s - loss: 0.6653 - accuracy: 0.6022\n",
      "Epoch 00029: val_accuracy did not improve from 0.52862\n",
      "408/408 [==============================] - 2s 5ms/step - loss: 0.6665 - accuracy: 0.5991 - val_loss: 0.7419 - val_accuracy: 0.5207\n",
      "Epoch 30/200\n",
      "399/408 [============================>.] - ETA: 0s - loss: 0.6628 - accuracy: 0.6087\n",
      "Epoch 00030: val_accuracy did not improve from 0.52862\n",
      "Restoring model weights from the end of the best epoch.\n",
      "408/408 [==============================] - 2s 4ms/step - loss: 0.6643 - accuracy: 0.6046 - val_loss: 0.7374 - val_accuracy: 0.5223\n",
      "Epoch 00030: early stopping\n"
     ]
    }
   ],
   "source": [
    "from sklearn.model_selection import KFold\n",
    "\n",
    "inputs = np.array(listMatrix)\n",
    "targets = np.array(y_train).astype('float32').reshape((-1,1))\n",
    "\n",
    "num_folds = 5\n",
    "\n",
    "# Define the K-fold Cross Validator\n",
    "kfold = KFold(n_splits=num_folds, shuffle=True)\n",
    "\n",
    "# K-fold Cross Validation model evaluation\n",
    "history = {}\n",
    "fold_no = 1\n",
    "for train_df, valid_df in kfold.split(inputs, targets):\n",
    "    \n",
    "    train_dataset = tf.data.Dataset.from_tensor_slices((inputs[train_df], targets[train_df]))\n",
    "    valid_dataset = tf.data.Dataset.from_tensor_slices((inputs[valid_df], targets[valid_df]))\n",
    "    \n",
    "    model = get_sequence_model()\n",
    "    model.compile(loss='binary_crossentropy', \n",
    "                  optimizer='adam', \n",
    "                  metrics='accuracy')\n",
    "    \n",
    "    # Define callbacks.\n",
    "    model_save = ModelCheckpoint(f'Brain_lstm_kfold_{fold_no}.h5', \n",
    "                                 save_best_only = True, \n",
    "                                 monitor = 'val_accuracy', \n",
    "                                 mode = 'max', verbose = 1)\n",
    "    early_stop = EarlyStopping(monitor = 'val_accuracy', \n",
    "                               patience = 25, mode = 'max', verbose = 1,\n",
    "                               restore_best_weights = True)\n",
    "    \n",
    "    print('------------------------------------------------------------------------')\n",
    "    print(f'Training for fold {fold_no} ...')\n",
    "    \n",
    "    epochs = 200\n",
    "    history[fold_no] = model.fit(\n",
    "        train_dataset,\n",
    "        validation_data=valid_dataset, \n",
    "        epochs=epochs, \n",
    "        batch_size=32,\n",
    "        callbacks = [model_save, early_stop])\n",
    "    \n",
    "    # Increase fold number\n",
    "    fold_no += 1"
   ]
  },
  {
   "cell_type": "markdown",
   "id": "5f2a7094",
   "metadata": {
    "papermill": {
     "duration": 1.144109,
     "end_time": "2021-09-15T07:06:29.912347",
     "exception": false,
     "start_time": "2021-09-15T07:06:28.768238",
     "status": "completed"
    },
    "tags": []
   },
   "source": [
    "We will now train this LSTM model on the matrices compiled for each patient using the Transfer Learning ResNet50.\n",
    "\n",
    "An EarlyStopping is set up and the best model will be saved."
   ]
  },
  {
   "cell_type": "markdown",
   "id": "7c2fb31e",
   "metadata": {
    "papermill": {
     "duration": 1.099522,
     "end_time": "2021-09-15T07:06:32.885080",
     "exception": false,
     "start_time": "2021-09-15T07:06:31.785558",
     "status": "completed"
    },
    "tags": []
   },
   "source": [
    "Now let's look at the results of this training:"
   ]
  },
  {
   "cell_type": "code",
   "execution_count": 19,
   "id": "0997c4f7",
   "metadata": {
    "execution": {
     "iopub.execute_input": "2021-09-15T07:06:35.127925Z",
     "iopub.status.busy": "2021-09-15T07:06:35.127126Z",
     "iopub.status.idle": "2021-09-15T07:06:35.684600Z",
     "shell.execute_reply": "2021-09-15T07:06:35.685015Z",
     "shell.execute_reply.started": "2021-09-14T11:29:53.110252Z"
    },
    "papermill": {
     "duration": 1.690758,
     "end_time": "2021-09-15T07:06:35.685158",
     "exception": false,
     "start_time": "2021-09-15T07:06:33.994400",
     "status": "completed"
    },
    "tags": []
   },
   "outputs": [
    {
     "data": {
      "image/png": "[encoded data removed]",
      "text/plain": [
       "<Figure size 1440x504 with 2 Axes>"
      ]
     },
     "metadata": {
      "needs_background": "light"
     },
     "output_type": "display_data"
    }
   ],
   "source": [
    "fig, ax = plt.subplots(1, 2, figsize=(20, 7))\n",
    "ax = ax.ravel()\n",
    "\n",
    "for fold in history:\n",
    "    for i, metric in enumerate([\"accuracy\",\"loss\"]):\n",
    "        ax[i].plot(history[fold].history[metric], label=\"train \"+str(fold))\n",
    "        ax[i].plot(history[fold].history[\"val_\" + metric], linestyle=\"dotted\", label=\"val \"+str(fold))\n",
    "        ax[i].set_title(\"Model {}\".format(metric))\n",
    "        ax[i].set_xlabel(\"epochs\")\n",
    "        ax[i].set_ylabel(metric)\n",
    "        ax[i].legend()"
   ]
  },
  {
   "cell_type": "code",
   "execution_count": 20,
   "id": "03170bb5",
   "metadata": {
    "execution": {
     "iopub.execute_input": "2021-09-15T07:06:37.953944Z",
     "iopub.status.busy": "2021-09-15T07:06:37.953260Z",
     "iopub.status.idle": "2021-09-15T07:06:37.982974Z",
     "shell.execute_reply": "2021-09-15T07:06:37.982564Z",
     "shell.execute_reply.started": "2021-09-14T11:29:53.6073Z"
    },
    "papermill": {
     "duration": 1.15244,
     "end_time": "2021-09-15T07:06:37.983114",
     "exception": false,
     "start_time": "2021-09-15T07:06:36.830674",
     "status": "completed"
    },
    "tags": []
   },
   "outputs": [
    {
     "data": {
      "text/html": [
       "<div>\n",
       "<style scoped>\n",
       "    .dataframe tbody tr th:only-of-type {\n",
       "        vertical-align: middle;\n",
       "    }\n",
       "\n",
       "    .dataframe tbody tr th {\n",
       "        vertical-align: top;\n",
       "    }\n",
       "\n",
       "    .dataframe thead th {\n",
       "        text-align: right;\n",
       "    }\n",
       "</style>\n",
       "<table border=\"1\" class=\"dataframe\">\n",
       "  <thead>\n",
       "    <tr style=\"text-align: right;\">\n",
       "      <th></th>\n",
       "      <th>Fold</th>\n",
       "      <th>Mean_Loss</th>\n",
       "      <th>Mean_Accuracy</th>\n",
       "      <th>Rank_Ratio</th>\n",
       "    </tr>\n",
       "  </thead>\n",
       "  <tbody>\n",
       "    <tr>\n",
       "      <th>0</th>\n",
       "      <td>1</td>\n",
       "      <td>0.673649</td>\n",
       "      <td>0.593237</td>\n",
       "      <td>0.080412</td>\n",
       "    </tr>\n",
       "    <tr>\n",
       "      <th>3</th>\n",
       "      <td>4</td>\n",
       "      <td>0.684512</td>\n",
       "      <td>0.588153</td>\n",
       "      <td>0.096359</td>\n",
       "    </tr>\n",
       "    <tr>\n",
       "      <th>2</th>\n",
       "      <td>3</td>\n",
       "      <td>0.693081</td>\n",
       "      <td>0.552896</td>\n",
       "      <td>0.140184</td>\n",
       "    </tr>\n",
       "    <tr>\n",
       "      <th>1</th>\n",
       "      <td>2</td>\n",
       "      <td>0.689856</td>\n",
       "      <td>0.547429</td>\n",
       "      <td>0.142427</td>\n",
       "    </tr>\n",
       "    <tr>\n",
       "      <th>4</th>\n",
       "      <td>5</td>\n",
       "      <td>0.722986</td>\n",
       "      <td>0.523175</td>\n",
       "      <td>0.199812</td>\n",
       "    </tr>\n",
       "  </tbody>\n",
       "</table>\n",
       "</div>"
      ],
      "text/plain": [
       "   Fold  Mean_Loss  Mean_Accuracy  Rank_Ratio\n",
       "0     1   0.673649       0.593237    0.080412\n",
       "3     4   0.684512       0.588153    0.096359\n",
       "2     3   0.693081       0.552896    0.140184\n",
       "1     2   0.689856       0.547429    0.142427\n",
       "4     5   0.722986       0.523175    0.199812"
      ]
     },
     "execution_count": 20,
     "metadata": {},
     "output_type": "execute_result"
    }
   ],
   "source": [
    "kfold_results = pd.DataFrame(columns=[\"Fold\",\"Mean_Loss\",\"Mean_Accuracy\"])\n",
    "key = []\n",
    "mean_loss = []\n",
    "mean_acc = []\n",
    "for fold in history:\n",
    "    key.append(fold), \n",
    "    mean_loss.append(np.mean(history[fold].history[\"val_loss\"]))\n",
    "    mean_acc.append(np.mean(history[fold].history[\"val_accuracy\"]))\n",
    "\n",
    "kfold_results[\"Fold\"] = key\n",
    "kfold_results[\"Mean_Loss\"] = mean_loss\n",
    "kfold_results[\"Mean_Accuracy\"] = mean_acc\n",
    "kfold_results[\"Rank_Ratio\"] = (kfold_results[\"Mean_Loss\"] - kfold_results[\"Mean_Accuracy\"])\n",
    "kfold_results = kfold_results.sort_values(\"Rank_Ratio\", ascending=True)\n",
    "kfold_results"
   ]
  },
  {
   "cell_type": "code",
   "execution_count": 21,
   "id": "cb74c3ac",
   "metadata": {
    "execution": {
     "iopub.execute_input": "2021-09-15T07:06:40.235289Z",
     "iopub.status.busy": "2021-09-15T07:06:40.234610Z",
     "iopub.status.idle": "2021-09-15T07:06:40.237564Z",
     "shell.execute_reply": "2021-09-15T07:06:40.237969Z",
     "shell.execute_reply.started": "2021-09-14T11:29:53.649084Z"
    },
    "papermill": {
     "duration": 1.121342,
     "end_time": "2021-09-15T07:06:40.238102",
     "exception": false,
     "start_time": "2021-09-15T07:06:39.116760",
     "status": "completed"
    },
    "tags": []
   },
   "outputs": [
    {
     "name": "stdout",
     "output_type": "stream",
     "text": [
      "The best select model is ./Brain_lstm_kfold_1.h5\n"
     ]
    }
   ],
   "source": [
    "best_kfold_model = './Brain_lstm_kfold_' + str(kfold_results.Fold.values[0]) + '.h5'\n",
    "print(f\"The best select model is {best_kfold_model}\")"
   ]
  },
  {
   "cell_type": "markdown",
   "id": "c8cb8623",
   "metadata": {
    "papermill": {
     "duration": 1.122484,
     "end_time": "2021-09-15T07:06:42.700201",
     "exception": false,
     "start_time": "2021-09-15T07:06:41.577717",
     "status": "completed"
    },
    "tags": []
   },
   "source": [
    "# <span style=\"color:#0b0a2d; font-size:24px; text-transform: uppercase; font-weight:bold\" id=\"section_6\">Predict on test set with best model</span>\n",
    "\n",
    "We will now create the ResNet50 matrices for the test set and make the predictions on the test patients."
   ]
  },
  {
   "cell_type": "code",
   "execution_count": 22,
   "id": "dd47aae5",
   "metadata": {
    "execution": {
     "iopub.execute_input": "2021-09-15T07:06:44.970494Z",
     "iopub.status.busy": "2021-09-15T07:06:44.969527Z",
     "iopub.status.idle": "2021-09-15T07:11:09.584801Z",
     "shell.execute_reply": "2021-09-15T07:11:09.584380Z",
     "shell.execute_reply.started": "2021-09-14T11:29:53.658096Z"
    },
    "papermill": {
     "duration": 265.748731,
     "end_time": "2021-09-15T07:11:09.584928",
     "exception": false,
     "start_time": "2021-09-15T07:06:43.836197",
     "status": "completed"
    },
    "tags": []
   },
   "outputs": [
    {
     "data": {
      "application/vnd.jupyter.widget-view+json": {
       "model_id": "0f23a12f1c00499c871dac2d1921a225",
       "version_major": 2,
       "version_minor": 0
      },
      "text/plain": [
       "  0%|          | 0/76 [00:00<?, ?it/s]"
      ]
     },
     "metadata": {},
     "output_type": "display_data"
    }
   ],
   "source": [
    "X_test = test['BraTS21ID5'].values\n",
    "test_listMatrix = []\n",
    "for i, patient in enumerate(tqdm(X_test)):\n",
    "    test_listVectors = []\n",
    "    test_sequence = load_dicom_images_3d(scan_id=str(patient),mri_type=MRI_TYPE,split=\"test\")\n",
    "    for j in range(len(test_sequence)):\n",
    "        img = test_sequence[j]\n",
    "        img = np.expand_dims(img, axis=0)\n",
    "        img = tf.keras.applications.resnet50.preprocess_input(img)\n",
    "        img_vector = base_resnet.predict(img)\n",
    "        test_listVectors.append(np.array(img_vector))\n",
    "    \n",
    "    test_PatientMatrix = np.stack(test_listVectors)\n",
    "    test_listMatrix.append(test_PatientMatrix)"
   ]
  },
  {
   "cell_type": "code",
   "execution_count": 23,
   "id": "fc70ea0d",
   "metadata": {
    "execution": {
     "iopub.execute_input": "2021-09-15T07:11:11.811318Z",
     "iopub.status.busy": "2021-09-15T07:11:11.809493Z",
     "iopub.status.idle": "2021-09-15T07:11:11.813452Z",
     "shell.execute_reply": "2021-09-15T07:11:11.812995Z",
     "shell.execute_reply.started": "2021-09-14T11:34:16.374315Z"
    },
    "papermill": {
     "duration": 1.118047,
     "end_time": "2021-09-15T07:11:11.813565",
     "exception": false,
     "start_time": "2021-09-15T07:11:10.695518",
     "status": "completed"
    },
    "tags": []
   },
   "outputs": [
    {
     "name": "stdout",
     "output_type": "stream",
     "text": [
      "Number of test patient matrix: 76\n",
      "Test patient matrix shape: (64, 1, 2048)\n"
     ]
    }
   ],
   "source": [
    "print(f\"Number of test patient matrix: {len(test_listMatrix)}\")\n",
    "print(f\"Test patient matrix shape: {test_listMatrix[0].shape}\")"
   ]
  },
  {
   "cell_type": "code",
   "execution_count": 24,
   "id": "31b60add",
   "metadata": {
    "execution": {
     "iopub.execute_input": "2021-09-15T07:11:17.444586Z",
     "iopub.status.busy": "2021-09-15T07:11:17.443690Z",
     "iopub.status.idle": "2021-09-15T07:11:17.450335Z",
     "shell.execute_reply": "2021-09-15T07:11:17.450733Z",
     "shell.execute_reply.started": "2021-09-14T11:34:16.381854Z"
    },
    "papermill": {
     "duration": 4.512498,
     "end_time": "2021-09-15T07:11:17.450884",
     "exception": false,
     "start_time": "2021-09-15T07:11:12.938386",
     "status": "completed"
    },
    "tags": []
   },
   "outputs": [
    {
     "data": {
      "text/plain": [
       "76"
      ]
     },
     "execution_count": 24,
     "metadata": {},
     "output_type": "execute_result"
    }
   ],
   "source": [
    "test_dataset = tf.data.Dataset.from_tensor_slices(test_listMatrix)\n",
    "len(test_dataset)"
   ]
  },
  {
   "cell_type": "code",
   "execution_count": 25,
   "id": "435364f9",
   "metadata": {
    "execution": {
     "iopub.execute_input": "2021-09-15T07:11:19.647643Z",
     "iopub.status.busy": "2021-09-15T07:11:19.646792Z",
     "iopub.status.idle": "2021-09-15T07:11:20.406163Z",
     "shell.execute_reply": "2021-09-15T07:11:20.405713Z",
     "shell.execute_reply.started": "2021-09-14T11:34:19.84686Z"
    },
    "papermill": {
     "duration": 1.862494,
     "end_time": "2021-09-15T07:11:20.406305",
     "exception": false,
     "start_time": "2021-09-15T07:11:18.543811",
     "status": "completed"
    },
    "tags": []
   },
   "outputs": [
    {
     "name": "stdout",
     "output_type": "stream",
     "text": [
      "WARNING:tensorflow:Model was constructed with shape (None, 64, 2048) for input Tensor(\"lstm_input_1:0\", shape=(None, 64, 2048), dtype=float32), but it was called on an input with incompatible shape (64, 1, 2048).\n",
      "(4864, 1, 1)\n"
     ]
    }
   ],
   "source": [
    "final_model = keras.models.load_model(best_kfold_model)\n",
    "predict = final_model.predict(test_dataset)\n",
    "print(predict.shape)"
   ]
  },
  {
   "cell_type": "code",
   "execution_count": 26,
   "id": "238a59a9",
   "metadata": {
    "execution": {
     "iopub.execute_input": "2021-09-15T07:11:22.617379Z",
     "iopub.status.busy": "2021-09-15T07:11:22.616543Z",
     "iopub.status.idle": "2021-09-15T07:11:22.629760Z",
     "shell.execute_reply": "2021-09-15T07:11:22.630280Z",
     "shell.execute_reply.started": "2021-09-14T11:34:20.56927Z"
    },
    "papermill": {
     "duration": 1.130229,
     "end_time": "2021-09-15T07:11:22.630453",
     "exception": false,
     "start_time": "2021-09-15T07:11:21.500224",
     "status": "completed"
    },
    "tags": []
   },
   "outputs": [
    {
     "name": "stderr",
     "output_type": "stream",
     "text": [
      "<ipython-input-26-bb2b2956ad84>:7: SettingWithCopyWarning: \n",
      "A value is trying to be set on a copy of a slice from a DataFrame.\n",
      "Try using .loc[row_indexer,col_indexer] = value instead\n",
      "\n",
      "See the caveats in the documentation: https://pandas.pydata.org/pandas-docs/stable/user_guide/indexing.html#returning-a-view-versus-a-copy\n",
      "  submission[\"MGMT_value\"] = final_predict\n"
     ]
    },
    {
     "data": {
      "text/html": [
       "<div>\n",
       "<style scoped>\n",
       "    .dataframe tbody tr th:only-of-type {\n",
       "        vertical-align: middle;\n",
       "    }\n",
       "\n",
       "    .dataframe tbody tr th {\n",
       "        vertical-align: top;\n",
       "    }\n",
       "\n",
       "    .dataframe thead th {\n",
       "        text-align: right;\n",
       "    }\n",
       "</style>\n",
       "<table border=\"1\" class=\"dataframe\">\n",
       "  <thead>\n",
       "    <tr style=\"text-align: right;\">\n",
       "      <th></th>\n",
       "      <th>BraTS21ID</th>\n",
       "      <th>MGMT_value</th>\n",
       "    </tr>\n",
       "  </thead>\n",
       "  <tbody>\n",
       "    <tr>\n",
       "      <th>0</th>\n",
       "      <td>17</td>\n",
       "      <td>0.571</td>\n",
       "    </tr>\n",
       "    <tr>\n",
       "      <th>1</th>\n",
       "      <td>20</td>\n",
       "      <td>0.571</td>\n",
       "    </tr>\n",
       "    <tr>\n",
       "      <th>2</th>\n",
       "      <td>28</td>\n",
       "      <td>0.571</td>\n",
       "    </tr>\n",
       "    <tr>\n",
       "      <th>3</th>\n",
       "      <td>53</td>\n",
       "      <td>0.566</td>\n",
       "    </tr>\n",
       "    <tr>\n",
       "      <th>4</th>\n",
       "      <td>87</td>\n",
       "      <td>0.571</td>\n",
       "    </tr>\n",
       "  </tbody>\n",
       "</table>\n",
       "</div>"
      ],
      "text/plain": [
       "   BraTS21ID  MGMT_value\n",
       "0         17       0.571\n",
       "1         20       0.571\n",
       "2         28       0.571\n",
       "3         53       0.566\n",
       "4         87       0.571"
      ]
     },
     "execution_count": 26,
     "metadata": {},
     "output_type": "execute_result"
    }
   ],
   "source": [
    "predict = predict[:,0,0]\n",
    "final_predict = []\n",
    "for i in range(len(test_listMatrix)):\n",
    "    i+=1\n",
    "    final_predict.append(round(predict[((i-1)*NUM_IMAGES):(NUM_IMAGES*i)].mean(),3))\n",
    "submission = test[[\"BraTS21ID\",\"MGMT_value\"]]\n",
    "submission[\"MGMT_value\"] = final_predict\n",
    "submission.to_csv('TT_Model3_ResNet.csv',index=False)\n",
    "submission.head(5)"
   ]
  },
  {
   "cell_type": "code",
   "execution_count": 2,
   "id": "c423d2b5",
   "metadata": {
    "execution": {
     "iopub.execute_input": "2021-09-15T07:11:24.896305Z",
     "iopub.status.busy": "2021-09-15T07:11:24.895446Z",
     "iopub.status.idle": "2021-09-15T07:11:25.002475Z",
     "shell.execute_reply": "2021-09-15T07:11:25.002872Z",
     "shell.execute_reply.started": "2021-09-14T11:34:20.591916Z"
    },
    "papermill": {
     "duration": 1.262805,
     "end_time": "2021-09-15T07:11:25.003022",
     "exception": false,
     "start_time": "2021-09-15T07:11:23.740217",
     "status": "completed"
    },
    "tags": []
   },
   "outputs": [
    {
     "ename": "NameError",
     "evalue": "name 'plt' is not defined",
     "output_type": "error",
     "traceback": [
      "\u001b[0;31m---------------------------------------------------------------------------\u001b[0m",
      "\u001b[0;31mNameError\u001b[0m                                 Traceback (most recent call last)",
      "\u001b[0;32m<ipython-input-2-80bb9a35cacb>\u001b[0m in \u001b[0;36m<module>\u001b[0;34m\u001b[0m\n\u001b[0;32m----> 1\u001b[0;31m \u001b[0mplt\u001b[0m\u001b[0;34m.\u001b[0m\u001b[0mfigure\u001b[0m\u001b[0;34m(\u001b[0m\u001b[0mfigsize\u001b[0m\u001b[0;34m=\u001b[0m\u001b[0;34m(\u001b[0m\u001b[0;36m8\u001b[0m\u001b[0;34m,\u001b[0m \u001b[0;36m8\u001b[0m\u001b[0;34m)\u001b[0m\u001b[0;34m)\u001b[0m\u001b[0;34m\u001b[0m\u001b[0;34m\u001b[0m\u001b[0m\n\u001b[0m\u001b[1;32m      2\u001b[0m \u001b[0mplt\u001b[0m\u001b[0;34m.\u001b[0m\u001b[0mhist\u001b[0m\u001b[0;34m(\u001b[0m\u001b[0msubmission\u001b[0m\u001b[0;34m[\u001b[0m\u001b[0;34m\"MGMT_value\"\u001b[0m\u001b[0;34m]\u001b[0m\u001b[0;34m)\u001b[0m\u001b[0;34m\u001b[0m\u001b[0;34m\u001b[0m\u001b[0m\n\u001b[1;32m      3\u001b[0m plt.title(\"Predicted probabilites distribution on test set\", \n\u001b[1;32m      4\u001b[0m           fontsize=18, color=\"#0b0a2d\")\n\u001b[1;32m      5\u001b[0m \u001b[0mplt\u001b[0m\u001b[0;34m.\u001b[0m\u001b[0mshow\u001b[0m\u001b[0;34m(\u001b[0m\u001b[0;34m)\u001b[0m\u001b[0;34m\u001b[0m\u001b[0;34m\u001b[0m\u001b[0m\n",
      "\u001b[0;31mNameError\u001b[0m: name 'plt' is not defined"
     ]
    }
   ],
   "source": [
    "plt.figure(figsize=(8, 8))\n",
    "plt.hist(submission[\"MGMT_value\"])\n",
    "plt.title(\"Predicted probabilites distribution on test set\", \n",
    "          fontsize=18, color=\"#0b0a2d\")\n",
    "plt.show()"
   ]
  },
  {
   "cell_type": "markdown",
   "id": "e1d7386e",
   "metadata": {
    "papermill": {
     "duration": 1.452851,
     "end_time": "2021-09-15T07:11:27.548069",
     "exception": false,
     "start_time": "2021-09-15T07:11:26.095218",
     "status": "completed"
    },
    "tags": []
   },
   "source": [
    "<span style=\"color:red; font-size:18px\">Don't forget to **upvote** if this Notebook helped you!</span>"
   ]
  }
 ],
 "metadata": {
  "kernelspec": {
   "display_name": "Python 3",
   "language": "python",
   "name": "python3"
  },
  "language_info": {
   "codemirror_mode": {
    "name": "ipython",
    "version": 3
   },
   "file_extension": ".py",
   "mimetype": "text/x-python",
   "name": "python",
   "nbconvert_exporter": "python",
   "pygments_lexer": "ipython3",
   "version": "3.8.10"
  },
  "papermill": {
   "default_parameters": {},
   "duration": 2390.731626,
   "end_time": "2021-09-15T07:11:32.119580",
   "environment_variables": {},
   "exception": null,
   "input_path": "__notebook__.ipynb",
   "output_path": "__notebook__.ipynb",
   "parameters": {},
   "start_time": "2021-09-15T06:31:41.387954",
   "version": "2.3.3"
  },
  "widgets": {
   "application/vnd.jupyter.widget-state+json": {
    "state": {
     "0e2c15957dc2467082dec1a93ac1c962": {
      "model_module": "@jupyter-widgets/controls",
      "model_module_version": "1.5.0",
      "model_name": "HBoxModel",
      "state": {
       "_dom_classes": [],
       "_model_module": "@jupyter-widgets/controls",
       "_model_module_version": "1.5.0",
       "_model_name": "HBoxModel",
       "_view_count": null,
       "_view_module": "@jupyter-widgets/controls",
       "_view_module_version": "1.5.0",
       "_view_name": "HBoxView",
       "box_style": "",
       "children": [
        "IPY_MODEL_8f2d0f48786d4eab8075d1cc5f2e6838",
        "IPY_MODEL_28921d2f6b3047069c2dbd15996753f8",
        "IPY_MODEL_f54da0fb38894fb28a71b19117db6d8f"
       ],
       "layout": "IPY_MODEL_bf1d22c44807404fa80a13a0dfde211d"
      }
     },
     "194ccb97e8b346398e8f05c1cba5dda4": {
      "model_module": "@jupyter-widgets/controls",
      "model_module_version": "1.5.0",
      "model_name": "DescriptionStyleModel",
      "state": {
       "_model_module": "@jupyter-widgets/controls",
       "_model_module_version": "1.5.0",
       "_model_name": "DescriptionStyleModel",
       "_view_count": null,
       "_view_module": "@jupyter-widgets/base",
       "_view_module_version": "1.2.0",
       "_view_name": "StyleView",
       "description_width": ""
      }
     },
     "28921d2f6b3047069c2dbd15996753f8": {
      "model_module": "@jupyter-widgets/controls",
      "model_module_version": "1.5.0",
      "model_name": "FloatProgressModel",
      "state": {
       "_dom_classes": [],
       "_model_module": "@jupyter-widgets/controls",
       "_model_module_version": "1.5.0",
       "_model_name": "FloatProgressModel",
       "_view_count": null,
       "_view_module": "@jupyter-widgets/controls",
       "_view_module_version": "1.5.0",
       "_view_name": "ProgressView",
       "bar_style": "success",
       "description": "",
       "description_tooltip": null,
       "layout": "IPY_MODEL_596cb92ca0b649849f3a1aebd1ed0deb",
       "max": 87,
       "min": 0,
       "orientation": "horizontal",
       "style": "IPY_MODEL_671deec145464fdbbf4d3e3c731aa8b7",
       "value": 87
      }
     },
     "3987e5c6525444e79096d61f6dc79362": {
      "model_module": "@jupyter-widgets/controls",
      "model_module_version": "1.5.0",
      "model_name": "HTMLModel",
      "state": {
       "_dom_classes": [],
       "_model_module": "@jupyter-widgets/controls",
       "_model_module_version": "1.5.0",
       "_model_name": "HTMLModel",
       "_view_count": null,
       "_view_module": "@jupyter-widgets/controls",
       "_view_module_version": "1.5.0",
       "_view_name": "HTMLView",
       "description": "",
       "description_tooltip": null,
       "layout": "IPY_MODEL_90cab1cb29c8460bbed4942d55fc5148",
       "placeholder": "​",
       "style": "IPY_MODEL_55e2863b1b0a4ca78e47aa5918246934",
       "value": " 585/585 [29:20&lt;00:00,  2.74s/it]"
      }
     },
     "3e9803874c054a679db2a132dea40688": {
      "model_module": "@jupyter-widgets/controls",
      "model_module_version": "1.5.0",
      "model_name": "HBoxModel",
      "state": {
       "_dom_classes": [],
       "_model_module": "@jupyter-widgets/controls",
       "_model_module_version": "1.5.0",
       "_model_name": "HBoxModel",
       "_view_count": null,
       "_view_module": "@jupyter-widgets/controls",
       "_view_module_version": "1.5.0",
       "_view_name": "HBoxView",
       "box_style": "",
       "children": [
        "IPY_MODEL_d7f00fc7c2af4c64a87bd2e0dde78fd3",
        "IPY_MODEL_c08e5582c3b841cdbbec9cd0e3e81bf0",
        "IPY_MODEL_3987e5c6525444e79096d61f6dc79362"
       ],
       "layout": "IPY_MODEL_9db63d54fff64b739792ad65fc7b4bd4"
      }
     },
     "55e2863b1b0a4ca78e47aa5918246934": {
      "model_module": "@jupyter-widgets/controls",
      "model_module_version": "1.5.0",
      "model_name": "DescriptionStyleModel",
      "state": {
       "_model_module": "@jupyter-widgets/controls",
       "_model_module_version": "1.5.0",
       "_model_name": "DescriptionStyleModel",
       "_view_count": null,
       "_view_module": "@jupyter-widgets/base",
       "_view_module_version": "1.2.0",
       "_view_name": "StyleView",
       "description_width": ""
      }
     },
     "596cb92ca0b649849f3a1aebd1ed0deb": {
      "model_module": "@jupyter-widgets/base",
      "model_module_version": "1.2.0",
      "model_name": "LayoutModel",
      "state": {
       "_model_module": "@jupyter-widgets/base",
       "_model_module_version": "1.2.0",
       "_model_name": "LayoutModel",
       "_view_count": null,
       "_view_module": "@jupyter-widgets/base",
       "_view_module_version": "1.2.0",
       "_view_name": "LayoutView",
       "align_content": null,
       "align_items": null,
       "align_self": null,
       "border": null,
       "bottom": null,
       "display": null,
       "flex": null,
       "flex_flow": null,
       "grid_area": null,
       "grid_auto_columns": null,
       "grid_auto_flow": null,
       "grid_auto_rows": null,
       "grid_column": null,
       "grid_gap": null,
       "grid_row": null,
       "grid_template_areas": null,
       "grid_template_columns": null,
       "grid_template_rows": null,
       "height": null,
       "justify_content": null,
       "justify_items": null,
       "left": null,
       "margin": null,
       "max_height": null,
       "max_width": null,
       "min_height": null,
       "min_width": null,
       "object_fit": null,
       "object_position": null,
       "order": null,
       "overflow": null,
       "overflow_x": null,
       "overflow_y": null,
       "padding": null,
       "right": null,
       "top": null,
       "visibility": null,
       "width": null
      }
     },
     "671deec145464fdbbf4d3e3c731aa8b7": {
      "model_module": "@jupyter-widgets/controls",
      "model_module_version": "1.5.0",
      "model_name": "ProgressStyleModel",
      "state": {
       "_model_module": "@jupyter-widgets/controls",
       "_model_module_version": "1.5.0",
       "_model_name": "ProgressStyleModel",
       "_view_count": null,
       "_view_module": "@jupyter-widgets/base",
       "_view_module_version": "1.2.0",
       "_view_name": "StyleView",
       "bar_color": null,
       "description_width": ""
      }
     },
     "7446b00e7a0b40f69849db34c50f7665": {
      "model_module": "@jupyter-widgets/base",
      "model_module_version": "1.2.0",
      "model_name": "LayoutModel",
      "state": {
       "_model_module": "@jupyter-widgets/base",
       "_model_module_version": "1.2.0",
       "_model_name": "LayoutModel",
       "_view_count": null,
       "_view_module": "@jupyter-widgets/base",
       "_view_module_version": "1.2.0",
       "_view_name": "LayoutView",
       "align_content": null,
       "align_items": null,
       "align_self": null,
       "border": null,
       "bottom": null,
       "display": null,
       "flex": null,
       "flex_flow": null,
       "grid_area": null,
       "grid_auto_columns": null,
       "grid_auto_flow": null,
       "grid_auto_rows": null,
       "grid_column": null,
       "grid_gap": null,
       "grid_row": null,
       "grid_template_areas": null,
       "grid_template_columns": null,
       "grid_template_rows": null,
       "height": null,
       "justify_content": null,
       "justify_items": null,
       "left": null,
       "margin": null,
       "max_height": null,
       "max_width": null,
       "min_height": null,
       "min_width": null,
       "object_fit": null,
       "object_position": null,
       "order": null,
       "overflow": null,
       "overflow_x": null,
       "overflow_y": null,
       "padding": null,
       "right": null,
       "top": null,
       "visibility": null,
       "width": null
      }
     },
     "7be8dc7dd75f4401b515dcf7341d0f2a": {
      "model_module": "@jupyter-widgets/controls",
      "model_module_version": "1.5.0",
      "model_name": "DescriptionStyleModel",
      "state": {
       "_model_module": "@jupyter-widgets/controls",
       "_model_module_version": "1.5.0",
       "_model_name": "DescriptionStyleModel",
       "_view_count": null,
       "_view_module": "@jupyter-widgets/base",
       "_view_module_version": "1.2.0",
       "_view_name": "StyleView",
       "description_width": ""
      }
     },
     "8abe45bb73d545aa945ce49eeb191a9e": {
      "model_module": "@jupyter-widgets/controls",
      "model_module_version": "1.5.0",
      "model_name": "ProgressStyleModel",
      "state": {
       "_model_module": "@jupyter-widgets/controls",
       "_model_module_version": "1.5.0",
       "_model_name": "ProgressStyleModel",
       "_view_count": null,
       "_view_module": "@jupyter-widgets/base",
       "_view_module_version": "1.2.0",
       "_view_name": "StyleView",
       "bar_color": null,
       "description_width": ""
      }
     },
     "8eabbc400a6d4fa3bdf8abb147c081bc": {
      "model_module": "@jupyter-widgets/base",
      "model_module_version": "1.2.0",
      "model_name": "LayoutModel",
      "state": {
       "_model_module": "@jupyter-widgets/base",
       "_model_module_version": "1.2.0",
       "_model_name": "LayoutModel",
       "_view_count": null,
       "_view_module": "@jupyter-widgets/base",
       "_view_module_version": "1.2.0",
       "_view_name": "LayoutView",
       "align_content": null,
       "align_items": null,
       "align_self": null,
       "border": null,
       "bottom": null,
       "display": null,
       "flex": null,
       "flex_flow": null,
       "grid_area": null,
       "grid_auto_columns": null,
       "grid_auto_flow": null,
       "grid_auto_rows": null,
       "grid_column": null,
       "grid_gap": null,
       "grid_row": null,
       "grid_template_areas": null,
       "grid_template_columns": null,
       "grid_template_rows": null,
       "height": null,
       "justify_content": null,
       "justify_items": null,
       "left": null,
       "margin": null,
       "max_height": null,
       "max_width": null,
       "min_height": null,
       "min_width": null,
       "object_fit": null,
       "object_position": null,
       "order": null,
       "overflow": null,
       "overflow_x": null,
       "overflow_y": null,
       "padding": null,
       "right": null,
       "top": null,
       "visibility": null,
       "width": null
      }
     },
     "8f2d0f48786d4eab8075d1cc5f2e6838": {
      "model_module": "@jupyter-widgets/controls",
      "model_module_version": "1.5.0",
      "model_name": "HTMLModel",
      "state": {
       "_dom_classes": [],
       "_model_module": "@jupyter-widgets/controls",
       "_model_module_version": "1.5.0",
       "_model_name": "HTMLModel",
       "_view_count": null,
       "_view_module": "@jupyter-widgets/controls",
       "_view_module_version": "1.5.0",
       "_view_name": "HTMLView",
       "description": "",
       "description_tooltip": null,
       "layout": "IPY_MODEL_ec5c4b6d3607447fb388044abf092918",
       "placeholder": "​",
       "style": "IPY_MODEL_7be8dc7dd75f4401b515dcf7341d0f2a",
       "value": "100%"
      }
     },
     "8f73786baacd4924bd3f8701f33aeb22": {
      "model_module": "@jupyter-widgets/base",
      "model_module_version": "1.2.0",
      "model_name": "LayoutModel",
      "state": {
       "_model_module": "@jupyter-widgets/base",
       "_model_module_version": "1.2.0",
       "_model_name": "LayoutModel",
       "_view_count": null,
       "_view_module": "@jupyter-widgets/base",
       "_view_module_version": "1.2.0",
       "_view_name": "LayoutView",
       "align_content": null,
       "align_items": null,
       "align_self": null,
       "border": null,
       "bottom": null,
       "display": null,
       "flex": null,
       "flex_flow": null,
       "grid_area": null,
       "grid_auto_columns": null,
       "grid_auto_flow": null,
       "grid_auto_rows": null,
       "grid_column": null,
       "grid_gap": null,
       "grid_row": null,
       "grid_template_areas": null,
       "grid_template_columns": null,
       "grid_template_rows": null,
       "height": null,
       "justify_content": null,
       "justify_items": null,
       "left": null,
       "margin": null,
       "max_height": null,
       "max_width": null,
       "min_height": null,
       "min_width": null,
       "object_fit": null,
       "object_position": null,
       "order": null,
       "overflow": null,
       "overflow_x": null,
       "overflow_y": null,
       "padding": null,
       "right": null,
       "top": null,
       "visibility": null,
       "width": null
      }
     },
     "90cab1cb29c8460bbed4942d55fc5148": {
      "model_module": "@jupyter-widgets/base",
      "model_module_version": "1.2.0",
      "model_name": "LayoutModel",
      "state": {
       "_model_module": "@jupyter-widgets/base",
       "_model_module_version": "1.2.0",
       "_model_name": "LayoutModel",
       "_view_count": null,
       "_view_module": "@jupyter-widgets/base",
       "_view_module_version": "1.2.0",
       "_view_name": "LayoutView",
       "align_content": null,
       "align_items": null,
       "align_self": null,
       "border": null,
       "bottom": null,
       "display": null,
       "flex": null,
       "flex_flow": null,
       "grid_area": null,
       "grid_auto_columns": null,
       "grid_auto_flow": null,
       "grid_auto_rows": null,
       "grid_column": null,
       "grid_gap": null,
       "grid_row": null,
       "grid_template_areas": null,
       "grid_template_columns": null,
       "grid_template_rows": null,
       "height": null,
       "justify_content": null,
       "justify_items": null,
       "left": null,
       "margin": null,
       "max_height": null,
       "max_width": null,
       "min_height": null,
       "min_width": null,
       "object_fit": null,
       "object_position": null,
       "order": null,
       "overflow": null,
       "overflow_x": null,
       "overflow_y": null,
       "padding": null,
       "right": null,
       "top": null,
       "visibility": null,
       "width": null
      }
     },
     "98a032fc02e3474d9fe95f5a25908289": {
      "model_module": "@jupyter-widgets/controls",
      "model_module_version": "1.5.0",
      "model_name": "DescriptionStyleModel",
      "state": {
       "_model_module": "@jupyter-widgets/controls",
       "_model_module_version": "1.5.0",
       "_model_name": "DescriptionStyleModel",
       "_view_count": null,
       "_view_module": "@jupyter-widgets/base",
       "_view_module_version": "1.2.0",
       "_view_name": "StyleView",
       "description_width": ""
      }
     },
     "9db63d54fff64b739792ad65fc7b4bd4": {
      "model_module": "@jupyter-widgets/base",
      "model_module_version": "1.2.0",
      "model_name": "LayoutModel",
      "state": {
       "_model_module": "@jupyter-widgets/base",
       "_model_module_version": "1.2.0",
       "_model_name": "LayoutModel",
       "_view_count": null,
       "_view_module": "@jupyter-widgets/base",
       "_view_module_version": "1.2.0",
       "_view_name": "LayoutView",
       "align_content": null,
       "align_items": null,
       "align_self": null,
       "border": null,
       "bottom": null,
       "display": null,
       "flex": null,
       "flex_flow": null,
       "grid_area": null,
       "grid_auto_columns": null,
       "grid_auto_flow": null,
       "grid_auto_rows": null,
       "grid_column": null,
       "grid_gap": null,
       "grid_row": null,
       "grid_template_areas": null,
       "grid_template_columns": null,
       "grid_template_rows": null,
       "height": null,
       "justify_content": null,
       "justify_items": null,
       "left": null,
       "margin": null,
       "max_height": null,
       "max_width": null,
       "min_height": null,
       "min_width": null,
       "object_fit": null,
       "object_position": null,
       "order": null,
       "overflow": null,
       "overflow_x": null,
       "overflow_y": null,
       "padding": null,
       "right": null,
       "top": null,
       "visibility": null,
       "width": null
      }
     },
     "bf1d22c44807404fa80a13a0dfde211d": {
      "model_module": "@jupyter-widgets/base",
      "model_module_version": "1.2.0",
      "model_name": "LayoutModel",
      "state": {
       "_model_module": "@jupyter-widgets/base",
       "_model_module_version": "1.2.0",
       "_model_name": "LayoutModel",
       "_view_count": null,
       "_view_module": "@jupyter-widgets/base",
       "_view_module_version": "1.2.0",
       "_view_name": "LayoutView",
       "align_content": null,
       "align_items": null,
       "align_self": null,
       "border": null,
       "bottom": null,
       "display": null,
       "flex": null,
       "flex_flow": null,
       "grid_area": null,
       "grid_auto_columns": null,
       "grid_auto_flow": null,
       "grid_auto_rows": null,
       "grid_column": null,
       "grid_gap": null,
       "grid_row": null,
       "grid_template_areas": null,
       "grid_template_columns": null,
       "grid_template_rows": null,
       "height": null,
       "justify_content": null,
       "justify_items": null,
       "left": null,
       "margin": null,
       "max_height": null,
       "max_width": null,
       "min_height": null,
       "min_width": null,
       "object_fit": null,
       "object_position": null,
       "order": null,
       "overflow": null,
       "overflow_x": null,
       "overflow_y": null,
       "padding": null,
       "right": null,
       "top": null,
       "visibility": null,
       "width": null
      }
     },
     "c08e5582c3b841cdbbec9cd0e3e81bf0": {
      "model_module": "@jupyter-widgets/controls",
      "model_module_version": "1.5.0",
      "model_name": "FloatProgressModel",
      "state": {
       "_dom_classes": [],
       "_model_module": "@jupyter-widgets/controls",
       "_model_module_version": "1.5.0",
       "_model_name": "FloatProgressModel",
       "_view_count": null,
       "_view_module": "@jupyter-widgets/controls",
       "_view_module_version": "1.5.0",
       "_view_name": "ProgressView",
       "bar_style": "success",
       "description": "",
       "description_tooltip": null,
       "layout": "IPY_MODEL_7446b00e7a0b40f69849db34c50f7665",
       "max": 585,
       "min": 0,
       "orientation": "horizontal",
       "style": "IPY_MODEL_8abe45bb73d545aa945ce49eeb191a9e",
       "value": 585
      }
     },
     "d7f00fc7c2af4c64a87bd2e0dde78fd3": {
      "model_module": "@jupyter-widgets/controls",
      "model_module_version": "1.5.0",
      "model_name": "HTMLModel",
      "state": {
       "_dom_classes": [],
       "_model_module": "@jupyter-widgets/controls",
       "_model_module_version": "1.5.0",
       "_model_name": "HTMLModel",
       "_view_count": null,
       "_view_module": "@jupyter-widgets/controls",
       "_view_module_version": "1.5.0",
       "_view_name": "HTMLView",
       "description": "",
       "description_tooltip": null,
       "layout": "IPY_MODEL_8eabbc400a6d4fa3bdf8abb147c081bc",
       "placeholder": "​",
       "style": "IPY_MODEL_194ccb97e8b346398e8f05c1cba5dda4",
       "value": "100%"
      }
     },
     "ec5c4b6d3607447fb388044abf092918": {
      "model_module": "@jupyter-widgets/base",
      "model_module_version": "1.2.0",
      "model_name": "LayoutModel",
      "state": {
       "_model_module": "@jupyter-widgets/base",
       "_model_module_version": "1.2.0",
       "_model_name": "LayoutModel",
       "_view_count": null,
       "_view_module": "@jupyter-widgets/base",
       "_view_module_version": "1.2.0",
       "_view_name": "LayoutView",
       "align_content": null,
       "align_items": null,
       "align_self": null,
       "border": null,
       "bottom": null,
       "display": null,
       "flex": null,
       "flex_flow": null,
       "grid_area": null,
       "grid_auto_columns": null,
       "grid_auto_flow": null,
       "grid_auto_rows": null,
       "grid_column": null,
       "grid_gap": null,
       "grid_row": null,
       "grid_template_areas": null,
       "grid_template_columns": null,
       "grid_template_rows": null,
       "height": null,
       "justify_content": null,
       "justify_items": null,
       "left": null,
       "margin": null,
       "max_height": null,
       "max_width": null,
       "min_height": null,
       "min_width": null,
       "object_fit": null,
       "object_position": null,
       "order": null,
       "overflow": null,
       "overflow_x": null,
       "overflow_y": null,
       "padding": null,
       "right": null,
       "top": null,
       "visibility": null,
       "width": null
      }
     },
     "f54da0fb38894fb28a71b19117db6d8f": {
      "model_module": "@jupyter-widgets/controls",
      "model_module_version": "1.5.0",
      "model_name": "HTMLModel",
      "state": {
       "_dom_classes": [],
       "_model_module": "@jupyter-widgets/controls",
       "_model_module_version": "1.5.0",
       "_model_name": "HTMLModel",
       "_view_count": null,
       "_view_module": "@jupyter-widgets/controls",
       "_view_module_version": "1.5.0",
       "_view_name": "HTMLView",
       "description": "",
       "description_tooltip": null,
       "layout": "IPY_MODEL_8f73786baacd4924bd3f8701f33aeb22",
       "placeholder": "​",
       "style": "IPY_MODEL_98a032fc02e3474d9fe95f5a25908289",
       "value": " 87/87 [04:24&lt;00:00,  3.04s/it]"
      }
     }
    },
    "version_major": 2,
    "version_minor": 0
   }
  }
 },
 "nbformat": 4,
 "nbformat_minor": 5
}
